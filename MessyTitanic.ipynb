{
 "cells": [
  {
   "cell_type": "markdown",
   "id": "comic-cherry",
   "metadata": {},
   "source": [
    "# Analiza zbioru danych\n",
    "\n",
    "## Wczytanie zbioru danych. Analiza ujawniła istnienie nagłówka. Dane przechowywane są w formacie tsv - Tab Separated Values"
   ]
  },
  {
   "cell_type": "code",
   "execution_count": 212,
   "id": "opponent-mayor",
   "metadata": {},
   "outputs": [],
   "source": [
    "inputFile <- read.table(\"TitanicMess.tsv\", sep=\"\\t\", header=TRUE)"
   ]
  },
  {
   "cell_type": "markdown",
   "id": "dress-collar",
   "metadata": {},
   "source": [
    "## Wyświetlenie części wczytanych danych"
   ]
  },
  {
   "cell_type": "code",
   "execution_count": 193,
   "id": "written-determination",
   "metadata": {
    "scrolled": true
   },
   "outputs": [
    {
     "data": {
      "text/html": [
       "<table class=\"dataframe\">\n",
       "<caption>A data.frame: 10 × 13</caption>\n",
       "<thead>\n",
       "\t<tr><th></th><th scope=col>PassengerId</th><th scope=col>Survived</th><th scope=col>Pclass</th><th scope=col>Name</th><th scope=col>Sex</th><th scope=col>Age</th><th scope=col>SibSp</th><th scope=col>Parch</th><th scope=col>Ticket</th><th scope=col>Fare</th><th scope=col>Cabin</th><th scope=col>Embarked</th><th scope=col>ship</th></tr>\n",
       "\t<tr><th></th><th scope=col>&lt;int&gt;</th><th scope=col>&lt;int&gt;</th><th scope=col>&lt;int&gt;</th><th scope=col>&lt;chr&gt;</th><th scope=col>&lt;chr&gt;</th><th scope=col>&lt;chr&gt;</th><th scope=col>&lt;int&gt;</th><th scope=col>&lt;int&gt;</th><th scope=col>&lt;chr&gt;</th><th scope=col>&lt;chr&gt;</th><th scope=col>&lt;chr&gt;</th><th scope=col>&lt;chr&gt;</th><th scope=col>&lt;chr&gt;</th></tr>\n",
       "</thead>\n",
       "<tbody>\n",
       "\t<tr><th scope=row>1</th><td> 1</td><td>0</td><td>3</td><td>Braund, Mr. Owen Harris                            </td><td>male  </td><td>22</td><td>1</td><td>0</td><td>A/5 21171       </td><td>7,25   </td><td>    </td><td>S</td><td>Titanic</td></tr>\n",
       "\t<tr><th scope=row>2</th><td> 2</td><td>1</td><td>1</td><td>Cumings, Mrs. John Bradley (Florence Briggs Thayer)</td><td>female</td><td>38</td><td>1</td><td>0</td><td>PC 17599        </td><td>71,2833</td><td>C85 </td><td>C</td><td>Titanic</td></tr>\n",
       "\t<tr><th scope=row>3</th><td> 3</td><td>1</td><td>3</td><td>Heikkinen, Miss. Laina                             </td><td>female</td><td>26</td><td>0</td><td>0</td><td>STON/O2. 3101282</td><td>7,925  </td><td>    </td><td>S</td><td>Titanic</td></tr>\n",
       "\t<tr><th scope=row>4</th><td> 4</td><td>1</td><td>1</td><td>Futrelle, Mrs. Jacques Heath (Lily May Peel)       </td><td>female</td><td>35</td><td>1</td><td>0</td><td>113803          </td><td>53,1   </td><td>C123</td><td>S</td><td>Titanic</td></tr>\n",
       "\t<tr><th scope=row>5</th><td> 5</td><td>0</td><td>3</td><td>Allen, Mr. William Henry                           </td><td>male  </td><td>35</td><td>0</td><td>0</td><td>373450          </td><td>8,05   </td><td>    </td><td>S</td><td>Titanic</td></tr>\n",
       "\t<tr><th scope=row>6</th><td> 6</td><td>0</td><td>3</td><td>Moran, Mr. James                                   </td><td>male  </td><td>  </td><td>0</td><td>0</td><td>330877          </td><td>8,4583 </td><td>    </td><td>Q</td><td>Titanic</td></tr>\n",
       "\t<tr><th scope=row>7</th><td> 7</td><td>0</td><td>1</td><td>McCarthy, Mr. Timothy J                            </td><td>male  </td><td>54</td><td>0</td><td>0</td><td>17463           </td><td>51,8625</td><td>E46 </td><td>S</td><td>Titanic</td></tr>\n",
       "\t<tr><th scope=row>8</th><td> 8</td><td>0</td><td>3</td><td>Palsson, Master. Gosta Leonard                     </td><td>male  </td><td>2 </td><td>3</td><td>1</td><td>349909          </td><td>21,075 </td><td>    </td><td>S</td><td>Titanic</td></tr>\n",
       "\t<tr><th scope=row>9</th><td> 9</td><td>1</td><td>3</td><td>Johnson, Mrs. Oscar W (Elisabeth Vilhelmina Berg)  </td><td>female</td><td>27</td><td>0</td><td>2</td><td>347742          </td><td>11,1333</td><td>    </td><td>S</td><td>Titanic</td></tr>\n",
       "\t<tr><th scope=row>10</th><td>10</td><td>1</td><td>2</td><td>Nasser, Mrs. Nicholas (Adele Achem)                </td><td>female</td><td>14</td><td>1</td><td>0</td><td>237736          </td><td>30,0708</td><td>    </td><td>C</td><td>Titanic</td></tr>\n",
       "</tbody>\n",
       "</table>\n"
      ],
      "text/latex": [
       "A data.frame: 10 × 13\n",
       "\\begin{tabular}{r|lllllllllllll}\n",
       "  & PassengerId & Survived & Pclass & Name & Sex & Age & SibSp & Parch & Ticket & Fare & Cabin & Embarked & ship\\\\\n",
       "  & <int> & <int> & <int> & <chr> & <chr> & <chr> & <int> & <int> & <chr> & <chr> & <chr> & <chr> & <chr>\\\\\n",
       "\\hline\n",
       "\t1 &  1 & 0 & 3 & Braund, Mr. Owen Harris                             & male   & 22 & 1 & 0 & A/5 21171        & 7,25    &      & S & Titanic\\\\\n",
       "\t2 &  2 & 1 & 1 & Cumings, Mrs. John Bradley (Florence Briggs Thayer) & female & 38 & 1 & 0 & PC 17599         & 71,2833 & C85  & C & Titanic\\\\\n",
       "\t3 &  3 & 1 & 3 & Heikkinen, Miss. Laina                              & female & 26 & 0 & 0 & STON/O2. 3101282 & 7,925   &      & S & Titanic\\\\\n",
       "\t4 &  4 & 1 & 1 & Futrelle, Mrs. Jacques Heath (Lily May Peel)        & female & 35 & 1 & 0 & 113803           & 53,1    & C123 & S & Titanic\\\\\n",
       "\t5 &  5 & 0 & 3 & Allen, Mr. William Henry                            & male   & 35 & 0 & 0 & 373450           & 8,05    &      & S & Titanic\\\\\n",
       "\t6 &  6 & 0 & 3 & Moran, Mr. James                                    & male   &    & 0 & 0 & 330877           & 8,4583  &      & Q & Titanic\\\\\n",
       "\t7 &  7 & 0 & 1 & McCarthy, Mr. Timothy J                             & male   & 54 & 0 & 0 & 17463            & 51,8625 & E46  & S & Titanic\\\\\n",
       "\t8 &  8 & 0 & 3 & Palsson, Master. Gosta Leonard                      & male   & 2  & 3 & 1 & 349909           & 21,075  &      & S & Titanic\\\\\n",
       "\t9 &  9 & 1 & 3 & Johnson, Mrs. Oscar W (Elisabeth Vilhelmina Berg)   & female & 27 & 0 & 2 & 347742           & 11,1333 &      & S & Titanic\\\\\n",
       "\t10 & 10 & 1 & 2 & Nasser, Mrs. Nicholas (Adele Achem)                 & female & 14 & 1 & 0 & 237736           & 30,0708 &      & C & Titanic\\\\\n",
       "\\end{tabular}\n"
      ],
      "text/markdown": [
       "\n",
       "A data.frame: 10 × 13\n",
       "\n",
       "| <!--/--> | PassengerId &lt;int&gt; | Survived &lt;int&gt; | Pclass &lt;int&gt; | Name &lt;chr&gt; | Sex &lt;chr&gt; | Age &lt;chr&gt; | SibSp &lt;int&gt; | Parch &lt;int&gt; | Ticket &lt;chr&gt; | Fare &lt;chr&gt; | Cabin &lt;chr&gt; | Embarked &lt;chr&gt; | ship &lt;chr&gt; |\n",
       "|---|---|---|---|---|---|---|---|---|---|---|---|---|---|\n",
       "| 1 |  1 | 0 | 3 | Braund, Mr. Owen Harris                             | male   | 22 | 1 | 0 | A/5 21171        | 7,25    | <!----> | S | Titanic |\n",
       "| 2 |  2 | 1 | 1 | Cumings, Mrs. John Bradley (Florence Briggs Thayer) | female | 38 | 1 | 0 | PC 17599         | 71,2833 | C85  | C | Titanic |\n",
       "| 3 |  3 | 1 | 3 | Heikkinen, Miss. Laina                              | female | 26 | 0 | 0 | STON/O2. 3101282 | 7,925   | <!----> | S | Titanic |\n",
       "| 4 |  4 | 1 | 1 | Futrelle, Mrs. Jacques Heath (Lily May Peel)        | female | 35 | 1 | 0 | 113803           | 53,1    | C123 | S | Titanic |\n",
       "| 5 |  5 | 0 | 3 | Allen, Mr. William Henry                            | male   | 35 | 0 | 0 | 373450           | 8,05    | <!----> | S | Titanic |\n",
       "| 6 |  6 | 0 | 3 | Moran, Mr. James                                    | male   | <!----> | 0 | 0 | 330877           | 8,4583  | <!----> | Q | Titanic |\n",
       "| 7 |  7 | 0 | 1 | McCarthy, Mr. Timothy J                             | male   | 54 | 0 | 0 | 17463            | 51,8625 | E46  | S | Titanic |\n",
       "| 8 |  8 | 0 | 3 | Palsson, Master. Gosta Leonard                      | male   | 2  | 3 | 1 | 349909           | 21,075  | <!----> | S | Titanic |\n",
       "| 9 |  9 | 1 | 3 | Johnson, Mrs. Oscar W (Elisabeth Vilhelmina Berg)   | female | 27 | 0 | 2 | 347742           | 11,1333 | <!----> | S | Titanic |\n",
       "| 10 | 10 | 1 | 2 | Nasser, Mrs. Nicholas (Adele Achem)                 | female | 14 | 1 | 0 | 237736           | 30,0708 | <!----> | C | Titanic |\n",
       "\n"
      ],
      "text/plain": [
       "   PassengerId Survived Pclass\n",
       "1   1          0        3     \n",
       "2   2          1        1     \n",
       "3   3          1        3     \n",
       "4   4          1        1     \n",
       "5   5          0        3     \n",
       "6   6          0        3     \n",
       "7   7          0        1     \n",
       "8   8          0        3     \n",
       "9   9          1        3     \n",
       "10 10          1        2     \n",
       "   Name                                                Sex    Age SibSp Parch\n",
       "1  Braund, Mr. Owen Harris                             male   22  1     0    \n",
       "2  Cumings, Mrs. John Bradley (Florence Briggs Thayer) female 38  1     0    \n",
       "3  Heikkinen, Miss. Laina                              female 26  0     0    \n",
       "4  Futrelle, Mrs. Jacques Heath (Lily May Peel)        female 35  1     0    \n",
       "5  Allen, Mr. William Henry                            male   35  0     0    \n",
       "6  Moran, Mr. James                                    male       0     0    \n",
       "7  McCarthy, Mr. Timothy J                             male   54  0     0    \n",
       "8  Palsson, Master. Gosta Leonard                      male   2   3     1    \n",
       "9  Johnson, Mrs. Oscar W (Elisabeth Vilhelmina Berg)   female 27  0     2    \n",
       "10 Nasser, Mrs. Nicholas (Adele Achem)                 female 14  1     0    \n",
       "   Ticket           Fare    Cabin Embarked ship   \n",
       "1  A/5 21171        7,25          S        Titanic\n",
       "2  PC 17599         71,2833 C85   C        Titanic\n",
       "3  STON/O2. 3101282 7,925         S        Titanic\n",
       "4  113803           53,1    C123  S        Titanic\n",
       "5  373450           8,05          S        Titanic\n",
       "6  330877           8,4583        Q        Titanic\n",
       "7  17463            51,8625 E46   S        Titanic\n",
       "8  349909           21,075        S        Titanic\n",
       "9  347742           11,1333       S        Titanic\n",
       "10 237736           30,0708       C        Titanic"
      ]
     },
     "metadata": {},
     "output_type": "display_data"
    }
   ],
   "source": [
    "head(inputFile, n=10)"
   ]
  },
  {
   "cell_type": "markdown",
   "id": "humanitarian-assault",
   "metadata": {},
   "source": [
    "## Analiza kolumn - jakie typy danych kryją się pod kolejnymi kolumnami"
   ]
  },
  {
   "cell_type": "code",
   "execution_count": 195,
   "id": "agreed-ready",
   "metadata": {},
   "outputs": [
    {
     "data": {
      "text/html": [
       "<style>\n",
       ".list-inline {list-style: none; margin:0; padding: 0}\n",
       ".list-inline>li {display: inline-block}\n",
       ".list-inline>li:not(:last-child)::after {content: \"\\00b7\"; padding: 0 .5ex}\n",
       "</style>\n",
       "<ol class=list-inline><li>'PassengerId'</li><li>'Survived'</li><li>'Pclass'</li><li>'Name'</li><li>'Sex'</li><li>'Age'</li><li>'SibSp'</li><li>'Parch'</li><li>'Ticket'</li><li>'Fare'</li><li>'Cabin'</li><li>'Embarked'</li><li>'ship'</li></ol>\n"
      ],
      "text/latex": [
       "\\begin{enumerate*}\n",
       "\\item 'PassengerId'\n",
       "\\item 'Survived'\n",
       "\\item 'Pclass'\n",
       "\\item 'Name'\n",
       "\\item 'Sex'\n",
       "\\item 'Age'\n",
       "\\item 'SibSp'\n",
       "\\item 'Parch'\n",
       "\\item 'Ticket'\n",
       "\\item 'Fare'\n",
       "\\item 'Cabin'\n",
       "\\item 'Embarked'\n",
       "\\item 'ship'\n",
       "\\end{enumerate*}\n"
      ],
      "text/markdown": [
       "1. 'PassengerId'\n",
       "2. 'Survived'\n",
       "3. 'Pclass'\n",
       "4. 'Name'\n",
       "5. 'Sex'\n",
       "6. 'Age'\n",
       "7. 'SibSp'\n",
       "8. 'Parch'\n",
       "9. 'Ticket'\n",
       "10. 'Fare'\n",
       "11. 'Cabin'\n",
       "12. 'Embarked'\n",
       "13. 'ship'\n",
       "\n",
       "\n"
      ],
      "text/plain": [
       " [1] \"PassengerId\" \"Survived\"    \"Pclass\"      \"Name\"        \"Sex\"        \n",
       " [6] \"Age\"         \"SibSp\"       \"Parch\"       \"Ticket\"      \"Fare\"       \n",
       "[11] \"Cabin\"       \"Embarked\"    \"ship\"       "
      ]
     },
     "metadata": {},
     "output_type": "display_data"
    }
   ],
   "source": [
    "colnames(inputFile)"
   ]
  },
  {
   "cell_type": "code",
   "execution_count": 157,
   "id": "supreme-argentina",
   "metadata": {},
   "outputs": [
    {
     "name": "stdout",
     "output_type": "stream",
     "text": [
      "'data.frame':\t719 obs. of  13 variables:\n",
      " $ PassengerId: int  1 2 3 4 5 7 8 9 10 11 ...\n",
      " $ Survived   : int  0 1 1 1 0 0 0 1 1 1 ...\n",
      " $ Pclass     : int  3 1 3 1 3 1 3 3 2 3 ...\n",
      " $ Name       : chr  \"Braund, Mr. Owen Harris\" \"Cumings, Mrs. John Bradley (Florence Briggs Thayer)\" \"Heikkinen, Miss. Laina\" \"Futrelle, Mrs. Jacques Heath (Lily May Peel)\" ...\n",
      " $ Sex        : chr  \"male\" \"female\" \"female\" \"female\" ...\n",
      " $ Age        : num  22 38 26 35 35 54 2 27 14 4 ...\n",
      " $ SibSp      : int  1 1 0 1 0 0 3 0 1 1 ...\n",
      " $ Parch      : int  0 0 0 0 0 0 1 2 0 1 ...\n",
      " $ Ticket     : chr  \"A/5 21171\" \"PC 17599\" \"STON/O2. 3101282\" \"113803\" ...\n",
      " $ Fare       : chr  \"7,25\" \"71,2833\" \"7,925\" \"53,1\" ...\n",
      " $ Cabin      : chr  \"\" \"C85\" \"\" \"C123\" ...\n",
      " $ Embarked   : chr  \"S\" \"C\" \"S\" \"S\" ...\n",
      " $ ship       : chr  \"Titanic\" \"Titanic\" \"Titanic\" \"Titanic\" ...\n"
     ]
    }
   ],
   "source": [
    "str(inputFile)"
   ]
  },
  {
   "cell_type": "code",
   "execution_count": 196,
   "id": "searching-logistics",
   "metadata": {},
   "outputs": [
    {
     "data": {
      "text/plain": [
       "  PassengerId        Survived          Pclass          Name          \n",
       " Min.   :   1.0   Min.   :0.0000   Min.   :1.000   Length:892        \n",
       " 1st Qu.: 223.8   1st Qu.:0.0000   1st Qu.:2.000   Class :character  \n",
       " Median : 444.5   Median :0.0000   Median :3.000   Mode  :character  \n",
       " Mean   : 445.8   Mean   :0.3868   Mean   :2.307                     \n",
       " 3rd Qu.: 668.2   3rd Qu.:1.0000   3rd Qu.:3.000                     \n",
       " Max.   :1000.0   Max.   :1.0000   Max.   :3.000                     \n",
       "     Sex                Age                SibSp            Parch       \n",
       " Length:892         Length:892         Min.   :0.0000   Min.   :0.0000  \n",
       " Class :character   Class :character   1st Qu.:0.0000   1st Qu.:0.0000  \n",
       " Mode  :character   Mode  :character   Median :0.0000   Median :0.0000  \n",
       "                                       Mean   :0.5258   Mean   :0.3711  \n",
       "                                       3rd Qu.:1.0000   3rd Qu.:0.0000  \n",
       "                                       Max.   :8.0000   Max.   :5.0000  \n",
       "    Ticket              Fare              Cabin             Embarked        \n",
       " Length:892         Length:892         Length:892         Length:892        \n",
       " Class :character   Class :character   Class :character   Class :character  \n",
       " Mode  :character   Mode  :character   Mode  :character   Mode  :character  \n",
       "                                                                            \n",
       "                                                                            \n",
       "                                                                            \n",
       "     ship          \n",
       " Length:892        \n",
       " Class :character  \n",
       " Mode  :character  \n",
       "                   \n",
       "                   \n",
       "                   "
      ]
     },
     "metadata": {},
     "output_type": "display_data"
    }
   ],
   "source": [
    "summary(inputFile)"
   ]
  },
  {
   "cell_type": "markdown",
   "id": "biological-arcade",
   "metadata": {},
   "source": [
    "Wstępna analiza pozwoliła na wyciągnięcie następujących wniosków: \n",
    "Kolumna Age wymaga zmiany typu danych na dane numeryczne z uwzględnieniem dwóch różnych separatorów - przecinka i kropki.\n",
    "Po zmianie typu danych w kolumnie Age na numeryczne, należy sprawdzić zakres wartości - za poprawne wartości przyjmuję wiek pomiędzy 0 a 110 lat.\n",
    "Wiersze, w których brakuje wartości lub wartości nie mieszczą się w poprawnym zakresie zostaną usunięte.\n",
    "\n",
    "Kolumna Fare wymaga zmiany typu danych na dane numeryczne z uwzględnieniem dwóch różnych separatorów - przecinka i kropki.\n",
    "Po zmianie typu danych w kolumnie Fare na numeryczne, należy sprawdzić zakres wartości - za poprawne wartości przyjmuję wszystkie wartości dodatnie i 0. Wiersze, w których brakuje wartości lub wartości nie mieszczą się w poprawnym zakresie zostaną usunięte."
   ]
  },
  {
   "cell_type": "markdown",
   "id": "reduced-rebel",
   "metadata": {},
   "source": [
    "## Sprawdzenie czy w kolumnie ship znajduje się tylko jedna nazwa statku. Jeśli nie -należałoby wyczyścić dane, jeśli tak - można usunąć kolumnę, jest niepotrzebna do analizy"
   ]
  },
  {
   "cell_type": "code",
   "execution_count": 184,
   "id": "caroline-warner",
   "metadata": {},
   "outputs": [
    {
     "data": {
      "text/html": [
       "'Titanic'"
      ],
      "text/latex": [
       "'Titanic'"
      ],
      "text/markdown": [
       "'Titanic'"
      ],
      "text/plain": [
       "[1] \"Titanic\""
      ]
     },
     "metadata": {},
     "output_type": "display_data"
    }
   ],
   "source": [
    "unique(inputFile$ship)"
   ]
  },
  {
   "cell_type": "markdown",
   "id": "electronic-olympus",
   "metadata": {},
   "source": [
    "## Usunięcie niepotrzebnych do analizy kolumn"
   ]
  },
  {
   "cell_type": "code",
   "execution_count": 189,
   "id": "affecting-revolution",
   "metadata": {},
   "outputs": [],
   "source": [
    "drops <- c(\"PassengerId\",\"ship\")\n",
    "inputFile <- inputFile[ , !(names(inputFile) %in% drops)]"
   ]
  },
  {
   "cell_type": "markdown",
   "id": "nutritional-simon",
   "metadata": {},
   "source": [
    "## Usunięcie zduplikowanych wierszy"
   ]
  },
  {
   "cell_type": "code",
   "execution_count": 182,
   "id": "little-karma",
   "metadata": {},
   "outputs": [],
   "source": [
    "library(dplyr)\n",
    "inputFile <- distinct(inputFile)"
   ]
  },
  {
   "cell_type": "markdown",
   "id": "mobile-senegal",
   "metadata": {},
   "source": [
    "## Ujednolicenie separatora i zmiana typu danych na dane numeryczne oraz usunięcie wierszy, w których brakuje danych dot. wieku pasażera"
   ]
  },
  {
   "cell_type": "code",
   "execution_count": 213,
   "id": "continent-batman",
   "metadata": {},
   "outputs": [],
   "source": [
    "inputFile$Age <- as.numeric(gsub(\",\", \".\", gsub(\"\\\\.\", \"\", inputFile$Age)))"
   ]
  },
  {
   "cell_type": "code",
   "execution_count": 214,
   "id": "jewish-potter",
   "metadata": {},
   "outputs": [],
   "source": [
    "inputFile <- inputFile[!is.na(inputFile$Age), ]"
   ]
  },
  {
   "cell_type": "markdown",
   "id": "remarkable-vault",
   "metadata": {},
   "source": [
    "## Usunięcie wierszy, w których wiek przekracza 110 lat"
   ]
  },
  {
   "cell_type": "code",
   "execution_count": 215,
   "id": "foreign-berry",
   "metadata": {},
   "outputs": [],
   "source": [
    "inputFile <- inputFile[!(inputFile$Age >110),]"
   ]
  },
  {
   "cell_type": "markdown",
   "id": "certified-personality",
   "metadata": {},
   "source": [
    "## Usunięcie wierszy, w których wiek jest mniejszy niż 0 lat"
   ]
  },
  {
   "cell_type": "code",
   "execution_count": 216,
   "id": "mexican-haven",
   "metadata": {},
   "outputs": [],
   "source": [
    "inputFile <- inputFile[!(inputFile$Age <0),]"
   ]
  },
  {
   "cell_type": "code",
   "execution_count": 217,
   "id": "twelve-theory",
   "metadata": {},
   "outputs": [
    {
     "data": {
      "text/plain": [
       "   Min. 1st Qu.  Median    Mean 3rd Qu.    Max. \n",
       "   0.42   20.00   28.00   29.61   38.00   80.00 "
      ]
     },
     "metadata": {},
     "output_type": "display_data"
    }
   ],
   "source": [
    "summary(inputFile$Age)"
   ]
  },
  {
   "cell_type": "markdown",
   "id": "professional-bailey",
   "metadata": {},
   "source": [
    "## Ujednolicenie separatora i zmiana typu danych na dane numeryczne oraz usunięcie wierszy, w których brakuje danych dot. opłaty uiszczonej przez pasażera"
   ]
  },
  {
   "cell_type": "code",
   "execution_count": 218,
   "id": "natural-queue",
   "metadata": {},
   "outputs": [
    {
     "name": "stderr",
     "output_type": "stream",
     "text": [
      "Warning message in eval(expr, envir, enclos):\n",
      "\"pojawiły się wartości NA na skutek przekształcenia\"\n"
     ]
    }
   ],
   "source": [
    "inputFile$Fare <- as.numeric(gsub(\",\", \".\", gsub(\"\\\\.\", \"\", inputFile$Fare)))"
   ]
  },
  {
   "cell_type": "code",
   "execution_count": 219,
   "id": "italian-surprise",
   "metadata": {},
   "outputs": [],
   "source": [
    "inputFile <- inputFile[!is.na(inputFile$Fare), ]"
   ]
  },
  {
   "cell_type": "markdown",
   "id": "entitled-pendant",
   "metadata": {},
   "source": [
    "## Usunięcie wierszy, w których wartość opłaty za rejs jest ujemna"
   ]
  },
  {
   "cell_type": "code",
   "execution_count": 220,
   "id": "dangerous-factory",
   "metadata": {},
   "outputs": [],
   "source": [
    "inputFile <- inputFile[!(inputFile$Fare <0),]"
   ]
  },
  {
   "cell_type": "markdown",
   "id": "wired-result",
   "metadata": {},
   "source": [
    "## Podgląd na strukturę data frame'u po przekształceniach dot. dwóch kolumn"
   ]
  },
  {
   "cell_type": "code",
   "execution_count": 221,
   "id": "celtic-electric",
   "metadata": {},
   "outputs": [
    {
     "data": {
      "text/plain": [
       "  PassengerId        Survived          Pclass          Name          \n",
       " Min.   :   1.0   Min.   :0.0000   Min.   :1.000   Length:713        \n",
       " 1st Qu.: 221.0   1st Qu.:0.0000   1st Qu.:1.000   Class :character  \n",
       " Median : 442.0   Median :0.0000   Median :2.000   Mode  :character  \n",
       " Mean   : 447.6   Mean   :0.4109   Mean   :2.234                     \n",
       " 3rd Qu.: 678.0   3rd Qu.:1.0000   3rd Qu.:3.000                     \n",
       " Max.   :1000.0   Max.   :1.0000   Max.   :3.000                     \n",
       "     Sex                 Age            SibSp            Parch      \n",
       " Length:713         Min.   : 0.42   Min.   :0.0000   Min.   :0.000  \n",
       " Class :character   1st Qu.:20.00   1st Qu.:0.0000   1st Qu.:0.000  \n",
       " Mode  :character   Median :28.00   Median :0.0000   Median :0.000  \n",
       "                    Mean   :29.62   Mean   :0.5147   Mean   :0.418  \n",
       "                    3rd Qu.:38.00   3rd Qu.:1.0000   3rd Qu.:1.000  \n",
       "                    Max.   :80.00   Max.   :5.0000   Max.   :5.000  \n",
       "    Ticket               Fare           Cabin             Embarked        \n",
       " Length:713         Min.   :  0.00   Length:713         Length:713        \n",
       " Class :character   1st Qu.:  8.05   Class :character   Class :character  \n",
       " Mode  :character   Median : 15.74   Mode  :character   Mode  :character  \n",
       "                    Mean   : 34.92                                        \n",
       "                    3rd Qu.: 33.50                                        \n",
       "                    Max.   :512.33                                        \n",
       "     ship          \n",
       " Length:713        \n",
       " Class :character  \n",
       " Mode  :character  \n",
       "                   \n",
       "                   \n",
       "                   "
      ]
     },
     "metadata": {},
     "output_type": "display_data"
    }
   ],
   "source": [
    "summary(inputFile)"
   ]
  },
  {
   "cell_type": "markdown",
   "id": "threaded-female",
   "metadata": {},
   "source": [
    "## Sprawdzenie wartości w innych kolumnach: z opisu danych wynika, że poprawnymi wartościami dla kolumny Embarked to: 'S', 'C' oraz 'Q', a dla Sex: 'male' oraz 'female'"
   ]
  },
  {
   "cell_type": "code",
   "execution_count": 222,
   "id": "prescribed-crown",
   "metadata": {},
   "outputs": [
    {
     "data": {
      "text/html": [
       "<style>\n",
       ".list-inline {list-style: none; margin:0; padding: 0}\n",
       ".list-inline>li {display: inline-block}\n",
       ".list-inline>li:not(:last-child)::after {content: \"\\00b7\"; padding: 0 .5ex}\n",
       "</style>\n",
       "<ol class=list-inline><li>'S'</li><li>'C'</li><li>'Q'</li><li>''</li><li>'So'</li><li>'Qe'</li></ol>\n"
      ],
      "text/latex": [
       "\\begin{enumerate*}\n",
       "\\item 'S'\n",
       "\\item 'C'\n",
       "\\item 'Q'\n",
       "\\item ''\n",
       "\\item 'So'\n",
       "\\item 'Qe'\n",
       "\\end{enumerate*}\n"
      ],
      "text/markdown": [
       "1. 'S'\n",
       "2. 'C'\n",
       "3. 'Q'\n",
       "4. ''\n",
       "5. 'So'\n",
       "6. 'Qe'\n",
       "\n",
       "\n"
      ],
      "text/plain": [
       "[1] \"S\"  \"C\"  \"Q\"  \"\"   \"So\" \"Qe\""
      ]
     },
     "metadata": {},
     "output_type": "display_data"
    },
    {
     "data": {
      "text/html": [
       "<style>\n",
       ".list-inline {list-style: none; margin:0; padding: 0}\n",
       ".list-inline>li {display: inline-block}\n",
       ".list-inline>li:not(:last-child)::after {content: \"\\00b7\"; padding: 0 .5ex}\n",
       "</style>\n",
       "<ol class=list-inline><li>'male'</li><li>'female'</li><li>'malef'</li><li>'femmale'</li></ol>\n"
      ],
      "text/latex": [
       "\\begin{enumerate*}\n",
       "\\item 'male'\n",
       "\\item 'female'\n",
       "\\item 'malef'\n",
       "\\item 'femmale'\n",
       "\\end{enumerate*}\n"
      ],
      "text/markdown": [
       "1. 'male'\n",
       "2. 'female'\n",
       "3. 'malef'\n",
       "4. 'femmale'\n",
       "\n",
       "\n"
      ],
      "text/plain": [
       "[1] \"male\"    \"female\"  \"malef\"   \"femmale\""
      ]
     },
     "metadata": {},
     "output_type": "display_data"
    },
    {
     "data": {
      "text/html": [
       "<style>\n",
       ".list-inline {list-style: none; margin:0; padding: 0}\n",
       ".list-inline>li {display: inline-block}\n",
       ".list-inline>li:not(:last-child)::after {content: \"\\00b7\"; padding: 0 .5ex}\n",
       "</style>\n",
       "<ol class=list-inline><li>1</li><li>0</li><li>3</li><li>4</li><li>2</li><li>5</li></ol>\n"
      ],
      "text/latex": [
       "\\begin{enumerate*}\n",
       "\\item 1\n",
       "\\item 0\n",
       "\\item 3\n",
       "\\item 4\n",
       "\\item 2\n",
       "\\item 5\n",
       "\\end{enumerate*}\n"
      ],
      "text/markdown": [
       "1. 1\n",
       "2. 0\n",
       "3. 3\n",
       "4. 4\n",
       "5. 2\n",
       "6. 5\n",
       "\n",
       "\n"
      ],
      "text/plain": [
       "[1] 1 0 3 4 2 5"
      ]
     },
     "metadata": {},
     "output_type": "display_data"
    },
    {
     "data": {
      "text/html": [
       "<style>\n",
       ".list-inline {list-style: none; margin:0; padding: 0}\n",
       ".list-inline>li {display: inline-block}\n",
       ".list-inline>li:not(:last-child)::after {content: \"\\00b7\"; padding: 0 .5ex}\n",
       "</style>\n",
       "<ol class=list-inline><li>0</li><li>1</li><li>2</li><li>5</li><li>3</li><li>4</li></ol>\n"
      ],
      "text/latex": [
       "\\begin{enumerate*}\n",
       "\\item 0\n",
       "\\item 1\n",
       "\\item 2\n",
       "\\item 5\n",
       "\\item 3\n",
       "\\item 4\n",
       "\\end{enumerate*}\n"
      ],
      "text/markdown": [
       "1. 0\n",
       "2. 1\n",
       "3. 2\n",
       "4. 5\n",
       "5. 3\n",
       "6. 4\n",
       "\n",
       "\n"
      ],
      "text/plain": [
       "[1] 0 1 2 5 3 4"
      ]
     },
     "metadata": {},
     "output_type": "display_data"
    }
   ],
   "source": [
    "unique(inputFile$Embarked)\n",
    "unique(inputFile$Sex)\n",
    "unique(inputFile$SibSp)\n",
    "unique(inputFile$Parch)"
   ]
  },
  {
   "cell_type": "markdown",
   "id": "large-remains",
   "metadata": {},
   "source": [
    "## Usunięcie wartości innych niż wspomnianych w poprzednim kroku, znajdujących się w kolumnie Embarked"
   ]
  },
  {
   "cell_type": "code",
   "execution_count": 223,
   "id": "outdoor-milan",
   "metadata": {},
   "outputs": [],
   "source": [
    "inputFile <- inputFile[(inputFile$Embarked =='S' | inputFile$Embarked =='C' | inputFile$Embarked =='Q'),]\n",
    "inputFile <- inputFile[(inputFile$Sex =='male' | inputFile$Sex =='female'),]"
   ]
  },
  {
   "cell_type": "markdown",
   "id": "proprietary-terrorism",
   "metadata": {},
   "source": [
    "## Sprawdzenie jak wiele pustych komórek zawiera się w kolumnie Cabin"
   ]
  },
  {
   "cell_type": "code",
   "execution_count": 224,
   "id": "laughing-fisher",
   "metadata": {},
   "outputs": [
    {
     "data": {
      "text/html": [
       "523"
      ],
      "text/latex": [
       "523"
      ],
      "text/markdown": [
       "523"
      ],
      "text/plain": [
       "[1] 523"
      ]
     },
     "metadata": {},
     "output_type": "display_data"
    }
   ],
   "source": [
    "sum(inputFile$Cabin == \"\")"
   ]
  },
  {
   "cell_type": "markdown",
   "id": "royal-enlargement",
   "metadata": {},
   "source": [
    "## Usunięcie kolumny Cabin, z powodu nadmiernej ilości pustych danych"
   ]
  },
  {
   "cell_type": "code",
   "execution_count": 225,
   "id": "rocky-profession",
   "metadata": {},
   "outputs": [],
   "source": [
    "drops <- c(\"Cabin\")\n",
    "inputFile <- inputFile[ , !(names(inputFile) %in% drops)]"
   ]
  },
  {
   "cell_type": "code",
   "execution_count": 226,
   "id": "developed-workplace",
   "metadata": {},
   "outputs": [],
   "source": [
    "inputFile$Sex <- as.factor(inputFile$Sex)\n",
    "inputFile$Embarked <- as.factor(inputFile$Embarked)\n",
    "inputFile$Survived <- as.factor(inputFile$Survived)\n",
    "inputFile$Pclass <- as.factor(inputFile$Pclass)"
   ]
  },
  {
   "cell_type": "markdown",
   "id": "smaller-sending",
   "metadata": {},
   "source": [
    "## Stworzenie kilku histogramów"
   ]
  },
  {
   "cell_type": "code",
   "execution_count": 236,
   "id": "opening-integration",
   "metadata": {},
   "outputs": [
    {
     "data": {
      "image/png": "[encoded data removed]",
      "text/plain": [
       "Plot with title \"Histogram of inputFile$Age\""
      ]
     },
     "metadata": {
      "image/png": {
       "height": 420,
       "width": 420
      }
     },
     "output_type": "display_data"
    },
    {
     "data": {
      "image/png": "[encoded data removed]",
      "text/plain": [
       "Plot with title \"Histogram of inputFile$SibSp\""
      ]
     },
     "metadata": {
      "image/png": {
       "height": 420,
       "width": 420
      }
     },
     "output_type": "display_data"
    },
    {
     "data": {
      "image/png": "[encoded data removed]",
      "text/plain": [
       "Plot with title \"Histogram of inputFile$Parch\""
      ]
     },
     "metadata": {
      "image/png": {
       "height": 420,
       "width": 420
      }
     },
     "output_type": "display_data"
    },
    {
     "data": {
      "image/png": "[encoded data removed]",
      "text/plain": [
       "Plot with title \"Histogram of inputFile$Fare\""
      ]
     },
     "metadata": {
      "image/png": {
       "height": 420,
       "width": 420
      }
     },
     "output_type": "display_data"
    }
   ],
   "source": [
    "hist(inputFile$Age)\n",
    "hist(inputFile$SibSp)\n",
    "hist(inputFile$Parch)\n",
    "hist(inputFile$Fare)"
   ]
  },
  {
   "cell_type": "markdown",
   "id": "premier-sewing",
   "metadata": {},
   "source": [
    "## Na bazie histogramu wnioskuję, że znaleziono wartości nieprawidłowe (odstające wartości powyżej ~300)"
   ]
  },
  {
   "cell_type": "code",
   "execution_count": 239,
   "id": "sustainable-switzerland",
   "metadata": {},
   "outputs": [],
   "source": [
    "inputFile <- inputFile[!(inputFile$Fare >350),]"
   ]
  },
  {
   "cell_type": "code",
   "execution_count": 240,
   "id": "worldwide-auction",
   "metadata": {},
   "outputs": [
    {
     "data": {
      "image/png": "[encoded data removed]",
      "text/plain": [
       "Plot with title \"Histogram of inputFile$Fare\""
      ]
     },
     "metadata": {
      "image/png": {
       "height": 420,
       "width": 420
      }
     },
     "output_type": "display_data"
    }
   ],
   "source": [
    "hist(inputFile$Fare)"
   ]
  },
  {
   "cell_type": "markdown",
   "id": "sophisticated-absolute",
   "metadata": {},
   "source": [
    "## Zapisanie do pliku"
   ]
  },
  {
   "cell_type": "code",
   "execution_count": 242,
   "id": "electoral-westminster",
   "metadata": {},
   "outputs": [],
   "source": [
    "write.table(inputFile, file='TitanicCleaned.tsv', quote=FALSE, sep='\\t')"
   ]
  }
 ],
 "metadata": {
  "kernelspec": {
   "display_name": "R",
   "language": "R",
   "name": "ir"
  },
  "language_info": {
   "codemirror_mode": "r",
   "file_extension": ".r",
   "mimetype": "text/x-r-source",
   "name": "R",
   "pygments_lexer": "r",
   "version": "4.1.1"
  }
 },
 "nbformat": 4,
 "nbformat_minor": 5
}
