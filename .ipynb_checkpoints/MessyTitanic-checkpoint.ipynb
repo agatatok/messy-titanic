{
 "cells": [
  {
   "cell_type": "markdown",
   "id": "comic-cherry",
   "metadata": {},
   "source": [
    "# Analiza zbioru danych w celu przeprowadzenia czyszczenia\n",
    "\n",
    "## Wczytanie zbioru danych. Analiza ujawniła istnienie nagłówka. Dane przechowywane są w formacie tsv - Tab Separated Values"
   ]
  },
  {
   "cell_type": "code",
   "execution_count": 61,
   "id": "opponent-mayor",
   "metadata": {},
   "outputs": [],
   "source": [
    "inputFile <- read.table(\"TitanicMess.tsv\", sep=\"\\t\", header=TRUE)"
   ]
  },
  {
   "cell_type": "markdown",
   "id": "dress-collar",
   "metadata": {},
   "source": [
    "## Wyświetlenie części wczytanych danych"
   ]
  },
  {
   "cell_type": "code",
   "execution_count": 62,
   "id": "written-determination",
   "metadata": {
    "scrolled": true
   },
   "outputs": [
    {
     "data": {
      "text/html": [
       "<table class=\"dataframe\">\n",
       "<caption>A data.frame: 10 × 13</caption>\n",
       "<thead>\n",
       "\t<tr><th></th><th scope=col>PassengerId</th><th scope=col>Survived</th><th scope=col>Pclass</th><th scope=col>Name</th><th scope=col>Sex</th><th scope=col>Age</th><th scope=col>SibSp</th><th scope=col>Parch</th><th scope=col>Ticket</th><th scope=col>Fare</th><th scope=col>Cabin</th><th scope=col>Embarked</th><th scope=col>ship</th></tr>\n",
       "\t<tr><th></th><th scope=col>&lt;int&gt;</th><th scope=col>&lt;int&gt;</th><th scope=col>&lt;int&gt;</th><th scope=col>&lt;chr&gt;</th><th scope=col>&lt;chr&gt;</th><th scope=col>&lt;chr&gt;</th><th scope=col>&lt;int&gt;</th><th scope=col>&lt;int&gt;</th><th scope=col>&lt;chr&gt;</th><th scope=col>&lt;chr&gt;</th><th scope=col>&lt;chr&gt;</th><th scope=col>&lt;chr&gt;</th><th scope=col>&lt;chr&gt;</th></tr>\n",
       "</thead>\n",
       "<tbody>\n",
       "\t<tr><th scope=row>1</th><td> 1</td><td>0</td><td>3</td><td>Braund, Mr. Owen Harris                            </td><td>male  </td><td>22</td><td>1</td><td>0</td><td>A/5 21171       </td><td>7,25   </td><td>    </td><td>S</td><td>Titanic</td></tr>\n",
       "\t<tr><th scope=row>2</th><td> 2</td><td>1</td><td>1</td><td>Cumings, Mrs. John Bradley (Florence Briggs Thayer)</td><td>female</td><td>38</td><td>1</td><td>0</td><td>PC 17599        </td><td>71,2833</td><td>C85 </td><td>C</td><td>Titanic</td></tr>\n",
       "\t<tr><th scope=row>3</th><td> 3</td><td>1</td><td>3</td><td>Heikkinen, Miss. Laina                             </td><td>female</td><td>26</td><td>0</td><td>0</td><td>STON/O2. 3101282</td><td>7,925  </td><td>    </td><td>S</td><td>Titanic</td></tr>\n",
       "\t<tr><th scope=row>4</th><td> 4</td><td>1</td><td>1</td><td>Futrelle, Mrs. Jacques Heath (Lily May Peel)       </td><td>female</td><td>35</td><td>1</td><td>0</td><td>113803          </td><td>53,1   </td><td>C123</td><td>S</td><td>Titanic</td></tr>\n",
       "\t<tr><th scope=row>5</th><td> 5</td><td>0</td><td>3</td><td>Allen, Mr. William Henry                           </td><td>male  </td><td>35</td><td>0</td><td>0</td><td>373450          </td><td>8,05   </td><td>    </td><td>S</td><td>Titanic</td></tr>\n",
       "\t<tr><th scope=row>6</th><td> 6</td><td>0</td><td>3</td><td>Moran, Mr. James                                   </td><td>male  </td><td>  </td><td>0</td><td>0</td><td>330877          </td><td>8,4583 </td><td>    </td><td>Q</td><td>Titanic</td></tr>\n",
       "\t<tr><th scope=row>7</th><td> 7</td><td>0</td><td>1</td><td>McCarthy, Mr. Timothy J                            </td><td>male  </td><td>54</td><td>0</td><td>0</td><td>17463           </td><td>51,8625</td><td>E46 </td><td>S</td><td>Titanic</td></tr>\n",
       "\t<tr><th scope=row>8</th><td> 8</td><td>0</td><td>3</td><td>Palsson, Master. Gosta Leonard                     </td><td>male  </td><td>2 </td><td>3</td><td>1</td><td>349909          </td><td>21,075 </td><td>    </td><td>S</td><td>Titanic</td></tr>\n",
       "\t<tr><th scope=row>9</th><td> 9</td><td>1</td><td>3</td><td>Johnson, Mrs. Oscar W (Elisabeth Vilhelmina Berg)  </td><td>female</td><td>27</td><td>0</td><td>2</td><td>347742          </td><td>11,1333</td><td>    </td><td>S</td><td>Titanic</td></tr>\n",
       "\t<tr><th scope=row>10</th><td>10</td><td>1</td><td>2</td><td>Nasser, Mrs. Nicholas (Adele Achem)                </td><td>female</td><td>14</td><td>1</td><td>0</td><td>237736          </td><td>30,0708</td><td>    </td><td>C</td><td>Titanic</td></tr>\n",
       "</tbody>\n",
       "</table>\n"
      ],
      "text/latex": [
       "A data.frame: 10 × 13\n",
       "\\begin{tabular}{r|lllllllllllll}\n",
       "  & PassengerId & Survived & Pclass & Name & Sex & Age & SibSp & Parch & Ticket & Fare & Cabin & Embarked & ship\\\\\n",
       "  & <int> & <int> & <int> & <chr> & <chr> & <chr> & <int> & <int> & <chr> & <chr> & <chr> & <chr> & <chr>\\\\\n",
       "\\hline\n",
       "\t1 &  1 & 0 & 3 & Braund, Mr. Owen Harris                             & male   & 22 & 1 & 0 & A/5 21171        & 7,25    &      & S & Titanic\\\\\n",
       "\t2 &  2 & 1 & 1 & Cumings, Mrs. John Bradley (Florence Briggs Thayer) & female & 38 & 1 & 0 & PC 17599         & 71,2833 & C85  & C & Titanic\\\\\n",
       "\t3 &  3 & 1 & 3 & Heikkinen, Miss. Laina                              & female & 26 & 0 & 0 & STON/O2. 3101282 & 7,925   &      & S & Titanic\\\\\n",
       "\t4 &  4 & 1 & 1 & Futrelle, Mrs. Jacques Heath (Lily May Peel)        & female & 35 & 1 & 0 & 113803           & 53,1    & C123 & S & Titanic\\\\\n",
       "\t5 &  5 & 0 & 3 & Allen, Mr. William Henry                            & male   & 35 & 0 & 0 & 373450           & 8,05    &      & S & Titanic\\\\\n",
       "\t6 &  6 & 0 & 3 & Moran, Mr. James                                    & male   &    & 0 & 0 & 330877           & 8,4583  &      & Q & Titanic\\\\\n",
       "\t7 &  7 & 0 & 1 & McCarthy, Mr. Timothy J                             & male   & 54 & 0 & 0 & 17463            & 51,8625 & E46  & S & Titanic\\\\\n",
       "\t8 &  8 & 0 & 3 & Palsson, Master. Gosta Leonard                      & male   & 2  & 3 & 1 & 349909           & 21,075  &      & S & Titanic\\\\\n",
       "\t9 &  9 & 1 & 3 & Johnson, Mrs. Oscar W (Elisabeth Vilhelmina Berg)   & female & 27 & 0 & 2 & 347742           & 11,1333 &      & S & Titanic\\\\\n",
       "\t10 & 10 & 1 & 2 & Nasser, Mrs. Nicholas (Adele Achem)                 & female & 14 & 1 & 0 & 237736           & 30,0708 &      & C & Titanic\\\\\n",
       "\\end{tabular}\n"
      ],
      "text/markdown": [
       "\n",
       "A data.frame: 10 × 13\n",
       "\n",
       "| <!--/--> | PassengerId &lt;int&gt; | Survived &lt;int&gt; | Pclass &lt;int&gt; | Name &lt;chr&gt; | Sex &lt;chr&gt; | Age &lt;chr&gt; | SibSp &lt;int&gt; | Parch &lt;int&gt; | Ticket &lt;chr&gt; | Fare &lt;chr&gt; | Cabin &lt;chr&gt; | Embarked &lt;chr&gt; | ship &lt;chr&gt; |\n",
       "|---|---|---|---|---|---|---|---|---|---|---|---|---|---|\n",
       "| 1 |  1 | 0 | 3 | Braund, Mr. Owen Harris                             | male   | 22 | 1 | 0 | A/5 21171        | 7,25    | <!----> | S | Titanic |\n",
       "| 2 |  2 | 1 | 1 | Cumings, Mrs. John Bradley (Florence Briggs Thayer) | female | 38 | 1 | 0 | PC 17599         | 71,2833 | C85  | C | Titanic |\n",
       "| 3 |  3 | 1 | 3 | Heikkinen, Miss. Laina                              | female | 26 | 0 | 0 | STON/O2. 3101282 | 7,925   | <!----> | S | Titanic |\n",
       "| 4 |  4 | 1 | 1 | Futrelle, Mrs. Jacques Heath (Lily May Peel)        | female | 35 | 1 | 0 | 113803           | 53,1    | C123 | S | Titanic |\n",
       "| 5 |  5 | 0 | 3 | Allen, Mr. William Henry                            | male   | 35 | 0 | 0 | 373450           | 8,05    | <!----> | S | Titanic |\n",
       "| 6 |  6 | 0 | 3 | Moran, Mr. James                                    | male   | <!----> | 0 | 0 | 330877           | 8,4583  | <!----> | Q | Titanic |\n",
       "| 7 |  7 | 0 | 1 | McCarthy, Mr. Timothy J                             | male   | 54 | 0 | 0 | 17463            | 51,8625 | E46  | S | Titanic |\n",
       "| 8 |  8 | 0 | 3 | Palsson, Master. Gosta Leonard                      | male   | 2  | 3 | 1 | 349909           | 21,075  | <!----> | S | Titanic |\n",
       "| 9 |  9 | 1 | 3 | Johnson, Mrs. Oscar W (Elisabeth Vilhelmina Berg)   | female | 27 | 0 | 2 | 347742           | 11,1333 | <!----> | S | Titanic |\n",
       "| 10 | 10 | 1 | 2 | Nasser, Mrs. Nicholas (Adele Achem)                 | female | 14 | 1 | 0 | 237736           | 30,0708 | <!----> | C | Titanic |\n",
       "\n"
      ],
      "text/plain": [
       "   PassengerId Survived Pclass\n",
       "1   1          0        3     \n",
       "2   2          1        1     \n",
       "3   3          1        3     \n",
       "4   4          1        1     \n",
       "5   5          0        3     \n",
       "6   6          0        3     \n",
       "7   7          0        1     \n",
       "8   8          0        3     \n",
       "9   9          1        3     \n",
       "10 10          1        2     \n",
       "   Name                                                Sex    Age SibSp Parch\n",
       "1  Braund, Mr. Owen Harris                             male   22  1     0    \n",
       "2  Cumings, Mrs. John Bradley (Florence Briggs Thayer) female 38  1     0    \n",
       "3  Heikkinen, Miss. Laina                              female 26  0     0    \n",
       "4  Futrelle, Mrs. Jacques Heath (Lily May Peel)        female 35  1     0    \n",
       "5  Allen, Mr. William Henry                            male   35  0     0    \n",
       "6  Moran, Mr. James                                    male       0     0    \n",
       "7  McCarthy, Mr. Timothy J                             male   54  0     0    \n",
       "8  Palsson, Master. Gosta Leonard                      male   2   3     1    \n",
       "9  Johnson, Mrs. Oscar W (Elisabeth Vilhelmina Berg)   female 27  0     2    \n",
       "10 Nasser, Mrs. Nicholas (Adele Achem)                 female 14  1     0    \n",
       "   Ticket           Fare    Cabin Embarked ship   \n",
       "1  A/5 21171        7,25          S        Titanic\n",
       "2  PC 17599         71,2833 C85   C        Titanic\n",
       "3  STON/O2. 3101282 7,925         S        Titanic\n",
       "4  113803           53,1    C123  S        Titanic\n",
       "5  373450           8,05          S        Titanic\n",
       "6  330877           8,4583        Q        Titanic\n",
       "7  17463            51,8625 E46   S        Titanic\n",
       "8  349909           21,075        S        Titanic\n",
       "9  347742           11,1333       S        Titanic\n",
       "10 237736           30,0708       C        Titanic"
      ]
     },
     "metadata": {},
     "output_type": "display_data"
    }
   ],
   "source": [
    "head(inputFile, n=10)"
   ]
  },
  {
   "cell_type": "markdown",
   "id": "humanitarian-assault",
   "metadata": {},
   "source": [
    "## Analiza kolumn - jakie typy danych kryją się pod kolejnymi kolumnami"
   ]
  },
  {
   "cell_type": "code",
   "execution_count": 63,
   "id": "agreed-ready",
   "metadata": {},
   "outputs": [
    {
     "data": {
      "text/html": [
       "<style>\n",
       ".list-inline {list-style: none; margin:0; padding: 0}\n",
       ".list-inline>li {display: inline-block}\n",
       ".list-inline>li:not(:last-child)::after {content: \"\\00b7\"; padding: 0 .5ex}\n",
       "</style>\n",
       "<ol class=list-inline><li>'PassengerId'</li><li>'Survived'</li><li>'Pclass'</li><li>'Name'</li><li>'Sex'</li><li>'Age'</li><li>'SibSp'</li><li>'Parch'</li><li>'Ticket'</li><li>'Fare'</li><li>'Cabin'</li><li>'Embarked'</li><li>'ship'</li></ol>\n"
      ],
      "text/latex": [
       "\\begin{enumerate*}\n",
       "\\item 'PassengerId'\n",
       "\\item 'Survived'\n",
       "\\item 'Pclass'\n",
       "\\item 'Name'\n",
       "\\item 'Sex'\n",
       "\\item 'Age'\n",
       "\\item 'SibSp'\n",
       "\\item 'Parch'\n",
       "\\item 'Ticket'\n",
       "\\item 'Fare'\n",
       "\\item 'Cabin'\n",
       "\\item 'Embarked'\n",
       "\\item 'ship'\n",
       "\\end{enumerate*}\n"
      ],
      "text/markdown": [
       "1. 'PassengerId'\n",
       "2. 'Survived'\n",
       "3. 'Pclass'\n",
       "4. 'Name'\n",
       "5. 'Sex'\n",
       "6. 'Age'\n",
       "7. 'SibSp'\n",
       "8. 'Parch'\n",
       "9. 'Ticket'\n",
       "10. 'Fare'\n",
       "11. 'Cabin'\n",
       "12. 'Embarked'\n",
       "13. 'ship'\n",
       "\n",
       "\n"
      ],
      "text/plain": [
       " [1] \"PassengerId\" \"Survived\"    \"Pclass\"      \"Name\"        \"Sex\"        \n",
       " [6] \"Age\"         \"SibSp\"       \"Parch\"       \"Ticket\"      \"Fare\"       \n",
       "[11] \"Cabin\"       \"Embarked\"    \"ship\"       "
      ]
     },
     "metadata": {},
     "output_type": "display_data"
    }
   ],
   "source": [
    "colnames(inputFile)"
   ]
  },
  {
   "cell_type": "code",
   "execution_count": 64,
   "id": "supreme-argentina",
   "metadata": {},
   "outputs": [
    {
     "name": "stdout",
     "output_type": "stream",
     "text": [
      "'data.frame':\t892 obs. of  13 variables:\n",
      " $ PassengerId: int  1 2 3 4 5 6 7 8 9 10 ...\n",
      " $ Survived   : int  0 1 1 1 0 0 0 0 1 1 ...\n",
      " $ Pclass     : int  3 1 3 1 3 3 1 3 3 2 ...\n",
      " $ Name       : chr  \"Braund, Mr. Owen Harris\" \"Cumings, Mrs. John Bradley (Florence Briggs Thayer)\" \"Heikkinen, Miss. Laina\" \"Futrelle, Mrs. Jacques Heath (Lily May Peel)\" ...\n",
      " $ Sex        : chr  \"male\" \"female\" \"female\" \"female\" ...\n",
      " $ Age        : chr  \"22\" \"38\" \"26\" \"35\" ...\n",
      " $ SibSp      : int  1 1 0 1 0 0 0 3 0 1 ...\n",
      " $ Parch      : int  0 0 0 0 0 0 0 1 2 0 ...\n",
      " $ Ticket     : chr  \"A/5 21171\" \"PC 17599\" \"STON/O2. 3101282\" \"113803\" ...\n",
      " $ Fare       : chr  \"7,25\" \"71,2833\" \"7,925\" \"53,1\" ...\n",
      " $ Cabin      : chr  \"\" \"C85\" \"\" \"C123\" ...\n",
      " $ Embarked   : chr  \"S\" \"C\" \"S\" \"S\" ...\n",
      " $ ship       : chr  \"Titanic\" \"Titanic\" \"Titanic\" \"Titanic\" ...\n"
     ]
    }
   ],
   "source": [
    "str(inputFile)"
   ]
  },
  {
   "cell_type": "code",
   "execution_count": 65,
   "id": "searching-logistics",
   "metadata": {},
   "outputs": [
    {
     "data": {
      "text/plain": [
       "  PassengerId        Survived          Pclass          Name          \n",
       " Min.   :   1.0   Min.   :0.0000   Min.   :1.000   Length:892        \n",
       " 1st Qu.: 223.8   1st Qu.:0.0000   1st Qu.:2.000   Class :character  \n",
       " Median : 444.5   Median :0.0000   Median :3.000   Mode  :character  \n",
       " Mean   : 445.8   Mean   :0.3868   Mean   :2.307                     \n",
       " 3rd Qu.: 668.2   3rd Qu.:1.0000   3rd Qu.:3.000                     \n",
       " Max.   :1000.0   Max.   :1.0000   Max.   :3.000                     \n",
       "     Sex                Age                SibSp            Parch       \n",
       " Length:892         Length:892         Min.   :0.0000   Min.   :0.0000  \n",
       " Class :character   Class :character   1st Qu.:0.0000   1st Qu.:0.0000  \n",
       " Mode  :character   Mode  :character   Median :0.0000   Median :0.0000  \n",
       "                                       Mean   :0.5258   Mean   :0.3711  \n",
       "                                       3rd Qu.:1.0000   3rd Qu.:0.0000  \n",
       "                                       Max.   :8.0000   Max.   :5.0000  \n",
       "    Ticket              Fare              Cabin             Embarked        \n",
       " Length:892         Length:892         Length:892         Length:892        \n",
       " Class :character   Class :character   Class :character   Class :character  \n",
       " Mode  :character   Mode  :character   Mode  :character   Mode  :character  \n",
       "                                                                            \n",
       "                                                                            \n",
       "                                                                            \n",
       "     ship          \n",
       " Length:892        \n",
       " Class :character  \n",
       " Mode  :character  \n",
       "                   \n",
       "                   \n",
       "                   "
      ]
     },
     "metadata": {},
     "output_type": "display_data"
    }
   ],
   "source": [
    "summary(inputFile)"
   ]
  },
  {
   "cell_type": "markdown",
   "id": "biological-arcade",
   "metadata": {},
   "source": [
    "Wstępna analiza pozwoliła na wyciągnięcie następujących wniosków: \n",
    "Kolumna Age wymaga zmiany typu danych na dane numeryczne z uwzględnieniem dwóch różnych separatorów - przecinka i kropki.\n",
    "Po zmianie typu danych w kolumnie Age na numeryczne, należy sprawdzić zakres wartości - za poprawne wartości przyjmuję wiek pomiędzy 0 a 110 lat.\n",
    "Wiersze, w których brakuje wartości lub wartości nie mieszczą się w poprawnym zakresie zostaną usunięte.\n",
    "\n",
    "Kolumna Fare wymaga zmiany typu danych na dane numeryczne z uwzględnieniem dwóch różnych separatorów - przecinka i kropki.\n",
    "Po zmianie typu danych w kolumnie Fare na numeryczne, należy sprawdzić zakres wartości - za poprawne wartości przyjmuję wszystkie wartości dodatnie i 0. Wiersze, w których brakuje wartości lub wartości nie mieszczą się w poprawnym zakresie zostaną usunięte.\n",
    "\n",
    "Zgodnie z opisem dot. danego zbioru, w niektórych kolumnach zakres możliwych wartości jest zawężony do pewnych odgórnie znanych wartości. W kolumnie ship powinna znajdować się wartość jedynie \"Titanic\", natomiast kolumna Embarked przyjmuje wartości \"S\", \"C\" oraz \"Q\". Kolmna sex powinna być zawężona do dwóch wartości - \"female\" oraz \"male\". "
   ]
  },
  {
   "cell_type": "markdown",
   "id": "reduced-rebel",
   "metadata": {},
   "source": [
    "## Sprawdzenie czy w kolumnie ship znajduje się tylko jedna nazwa statku. Jeśli nie -należałoby wyczyścić dane, jeśli tak - można usunąć kolumnę, jest niepotrzebna do analizy"
   ]
  },
  {
   "cell_type": "code",
   "execution_count": 66,
   "id": "caroline-warner",
   "metadata": {},
   "outputs": [
    {
     "data": {
      "text/html": [
       "'Titanic'"
      ],
      "text/latex": [
       "'Titanic'"
      ],
      "text/markdown": [
       "'Titanic'"
      ],
      "text/plain": [
       "[1] \"Titanic\""
      ]
     },
     "metadata": {},
     "output_type": "display_data"
    }
   ],
   "source": [
    "unique(inputFile$ship)"
   ]
  },
  {
   "cell_type": "markdown",
   "id": "electronic-olympus",
   "metadata": {},
   "source": [
    "## Usunięcie niepotrzebnych do analizy kolumn"
   ]
  },
  {
   "cell_type": "code",
   "execution_count": 67,
   "id": "affecting-revolution",
   "metadata": {},
   "outputs": [],
   "source": [
    "inputFile <- inputFile[ , !(names(inputFile) %in% c(\"PassengerId\",\"ship\"))]"
   ]
  },
  {
   "cell_type": "markdown",
   "id": "nutritional-simon",
   "metadata": {},
   "source": [
    "## Usunięcie zduplikowanych wierszy"
   ]
  },
  {
   "cell_type": "code",
   "execution_count": 68,
   "id": "little-karma",
   "metadata": {},
   "outputs": [],
   "source": [
    "library(dplyr)\n",
    "inputFile <- distinct(inputFile)"
   ]
  },
  {
   "cell_type": "markdown",
   "id": "mobile-senegal",
   "metadata": {},
   "source": [
    "## Ujednolicenie separatora i zmiana typu danych na dane numeryczne oraz usunięcie wierszy, w których brakuje danych dot. wieku pasażera"
   ]
  },
  {
   "cell_type": "code",
   "execution_count": 69,
   "id": "continent-batman",
   "metadata": {},
   "outputs": [],
   "source": [
    "inputFile$Age <- as.numeric(gsub(\",\", \".\", gsub(\"\\\\.\", \"\", inputFile$Age)))"
   ]
  },
  {
   "cell_type": "code",
   "execution_count": 70,
   "id": "jewish-potter",
   "metadata": {},
   "outputs": [],
   "source": [
    "inputFile <- inputFile[!is.na(inputFile$Age), ]"
   ]
  },
  {
   "cell_type": "markdown",
   "id": "remarkable-vault",
   "metadata": {},
   "source": [
    "## Usunięcie wierszy, w których wiek przekracza 110 lat"
   ]
  },
  {
   "cell_type": "code",
   "execution_count": 71,
   "id": "foreign-berry",
   "metadata": {},
   "outputs": [],
   "source": [
    "inputFile <- inputFile[!(inputFile$Age >110),]"
   ]
  },
  {
   "cell_type": "markdown",
   "id": "certified-personality",
   "metadata": {},
   "source": [
    "## Usunięcie wierszy, w których wiek jest mniejszy niż 0 lat"
   ]
  },
  {
   "cell_type": "code",
   "execution_count": 72,
   "id": "mexican-haven",
   "metadata": {},
   "outputs": [],
   "source": [
    "inputFile <- inputFile[!(inputFile$Age <0),]"
   ]
  },
  {
   "cell_type": "code",
   "execution_count": 73,
   "id": "twelve-theory",
   "metadata": {},
   "outputs": [
    {
     "data": {
      "text/plain": [
       "   Min. 1st Qu.  Median    Mean 3rd Qu.    Max. \n",
       "   0.42   20.00   28.00   29.67   38.00   80.00 "
      ]
     },
     "metadata": {},
     "output_type": "display_data"
    }
   ],
   "source": [
    "summary(inputFile$Age)"
   ]
  },
  {
   "cell_type": "markdown",
   "id": "professional-bailey",
   "metadata": {},
   "source": [
    "## Ujednolicenie separatora i zmiana typu danych na dane numeryczne oraz usunięcie wierszy, w których brakuje danych dot. opłaty uiszczonej przez pasażera"
   ]
  },
  {
   "cell_type": "code",
   "execution_count": 74,
   "id": "natural-queue",
   "metadata": {},
   "outputs": [
    {
     "name": "stderr",
     "output_type": "stream",
     "text": [
      "Warning message in eval(expr, envir, enclos):\n",
      "\"pojawiły się wartości NA na skutek przekształcenia\"\n"
     ]
    }
   ],
   "source": [
    "inputFile$Fare <- as.numeric(gsub(\",\", \".\", gsub(\"\\\\.\", \"\", inputFile$Fare)))"
   ]
  },
  {
   "cell_type": "code",
   "execution_count": 75,
   "id": "italian-surprise",
   "metadata": {},
   "outputs": [],
   "source": [
    "inputFile <- inputFile[!is.na(inputFile$Fare), ]"
   ]
  },
  {
   "cell_type": "markdown",
   "id": "entitled-pendant",
   "metadata": {},
   "source": [
    "## Usunięcie wierszy, w których wartość opłaty za rejs jest ujemna"
   ]
  },
  {
   "cell_type": "code",
   "execution_count": 76,
   "id": "dangerous-factory",
   "metadata": {},
   "outputs": [],
   "source": [
    "inputFile <- inputFile[!(inputFile$Fare <0),]"
   ]
  },
  {
   "cell_type": "markdown",
   "id": "wired-result",
   "metadata": {},
   "source": [
    "## Podgląd na strukturę data frame'u po przekształceniach dot. dwóch kolumn"
   ]
  },
  {
   "cell_type": "code",
   "execution_count": 77,
   "id": "celtic-electric",
   "metadata": {},
   "outputs": [
    {
     "data": {
      "text/plain": [
       "    Survived          Pclass          Name               Sex           \n",
       " Min.   :0.0000   Min.   :1.000   Length:710         Length:710        \n",
       " 1st Qu.:0.0000   1st Qu.:1.000   Class :character   Class :character  \n",
       " Median :0.0000   Median :2.000   Mode  :character   Mode  :character  \n",
       " Mean   :0.4085   Mean   :2.234                                        \n",
       " 3rd Qu.:1.0000   3rd Qu.:3.000                                        \n",
       " Max.   :1.0000   Max.   :3.000                                        \n",
       "      Age            SibSp            Parch           Ticket         \n",
       " Min.   : 0.42   Min.   :0.0000   Min.   :0.0000   Length:710        \n",
       " 1st Qu.:20.00   1st Qu.:0.0000   1st Qu.:0.0000   Class :character  \n",
       " Median :28.00   Median :0.0000   Median :0.0000   Mode  :character  \n",
       " Mean   :29.68   Mean   :0.5127   Mean   :0.4169                     \n",
       " 3rd Qu.:38.00   3rd Qu.:1.0000   3rd Qu.:1.0000                     \n",
       " Max.   :80.00   Max.   :5.0000   Max.   :5.0000                     \n",
       "      Fare           Cabin             Embarked        \n",
       " Min.   :  0.00   Length:710         Length:710        \n",
       " 1st Qu.:  8.05   Class :character   Class :character  \n",
       " Median : 15.65   Mode  :character   Mode  :character  \n",
       " Mean   : 34.89                                        \n",
       " 3rd Qu.: 33.38                                        \n",
       " Max.   :512.33                                        "
      ]
     },
     "metadata": {},
     "output_type": "display_data"
    }
   ],
   "source": [
    "summary(inputFile)"
   ]
  },
  {
   "cell_type": "markdown",
   "id": "threaded-female",
   "metadata": {},
   "source": [
    "## Sprawdzenie wartości w innych kolumnach: z opisu danych wynika, że poprawnymi wartościami dla kolumny Embarked to: 'S', 'C' oraz 'Q', a dla Sex: 'male' oraz 'female'"
   ]
  },
  {
   "cell_type": "code",
   "execution_count": 78,
   "id": "prescribed-crown",
   "metadata": {},
   "outputs": [
    {
     "data": {
      "text/html": [
       "<style>\n",
       ".list-inline {list-style: none; margin:0; padding: 0}\n",
       ".list-inline>li {display: inline-block}\n",
       ".list-inline>li:not(:last-child)::after {content: \"\\00b7\"; padding: 0 .5ex}\n",
       "</style>\n",
       "<ol class=list-inline><li>'S'</li><li>'C'</li><li>'Q'</li><li>''</li><li>'So'</li><li>'Qe'</li></ol>\n"
      ],
      "text/latex": [
       "\\begin{enumerate*}\n",
       "\\item 'S'\n",
       "\\item 'C'\n",
       "\\item 'Q'\n",
       "\\item ''\n",
       "\\item 'So'\n",
       "\\item 'Qe'\n",
       "\\end{enumerate*}\n"
      ],
      "text/markdown": [
       "1. 'S'\n",
       "2. 'C'\n",
       "3. 'Q'\n",
       "4. ''\n",
       "5. 'So'\n",
       "6. 'Qe'\n",
       "\n",
       "\n"
      ],
      "text/plain": [
       "[1] \"S\"  \"C\"  \"Q\"  \"\"   \"So\" \"Qe\""
      ]
     },
     "metadata": {},
     "output_type": "display_data"
    },
    {
     "data": {
      "text/html": [
       "<style>\n",
       ".list-inline {list-style: none; margin:0; padding: 0}\n",
       ".list-inline>li {display: inline-block}\n",
       ".list-inline>li:not(:last-child)::after {content: \"\\00b7\"; padding: 0 .5ex}\n",
       "</style>\n",
       "<ol class=list-inline><li>'male'</li><li>'female'</li><li>'malef'</li><li>'femmale'</li></ol>\n"
      ],
      "text/latex": [
       "\\begin{enumerate*}\n",
       "\\item 'male'\n",
       "\\item 'female'\n",
       "\\item 'malef'\n",
       "\\item 'femmale'\n",
       "\\end{enumerate*}\n"
      ],
      "text/markdown": [
       "1. 'male'\n",
       "2. 'female'\n",
       "3. 'malef'\n",
       "4. 'femmale'\n",
       "\n",
       "\n"
      ],
      "text/plain": [
       "[1] \"male\"    \"female\"  \"malef\"   \"femmale\""
      ]
     },
     "metadata": {},
     "output_type": "display_data"
    },
    {
     "data": {
      "text/html": [
       "<style>\n",
       ".list-inline {list-style: none; margin:0; padding: 0}\n",
       ".list-inline>li {display: inline-block}\n",
       ".list-inline>li:not(:last-child)::after {content: \"\\00b7\"; padding: 0 .5ex}\n",
       "</style>\n",
       "<ol class=list-inline><li>1</li><li>0</li><li>3</li><li>4</li><li>2</li><li>5</li></ol>\n"
      ],
      "text/latex": [
       "\\begin{enumerate*}\n",
       "\\item 1\n",
       "\\item 0\n",
       "\\item 3\n",
       "\\item 4\n",
       "\\item 2\n",
       "\\item 5\n",
       "\\end{enumerate*}\n"
      ],
      "text/markdown": [
       "1. 1\n",
       "2. 0\n",
       "3. 3\n",
       "4. 4\n",
       "5. 2\n",
       "6. 5\n",
       "\n",
       "\n"
      ],
      "text/plain": [
       "[1] 1 0 3 4 2 5"
      ]
     },
     "metadata": {},
     "output_type": "display_data"
    },
    {
     "data": {
      "text/html": [
       "<style>\n",
       ".list-inline {list-style: none; margin:0; padding: 0}\n",
       ".list-inline>li {display: inline-block}\n",
       ".list-inline>li:not(:last-child)::after {content: \"\\00b7\"; padding: 0 .5ex}\n",
       "</style>\n",
       "<ol class=list-inline><li>0</li><li>1</li><li>2</li><li>5</li><li>3</li><li>4</li></ol>\n"
      ],
      "text/latex": [
       "\\begin{enumerate*}\n",
       "\\item 0\n",
       "\\item 1\n",
       "\\item 2\n",
       "\\item 5\n",
       "\\item 3\n",
       "\\item 4\n",
       "\\end{enumerate*}\n"
      ],
      "text/markdown": [
       "1. 0\n",
       "2. 1\n",
       "3. 2\n",
       "4. 5\n",
       "5. 3\n",
       "6. 4\n",
       "\n",
       "\n"
      ],
      "text/plain": [
       "[1] 0 1 2 5 3 4"
      ]
     },
     "metadata": {},
     "output_type": "display_data"
    }
   ],
   "source": [
    "unique(inputFile$Embarked)\n",
    "unique(inputFile$Sex)\n",
    "unique(inputFile$SibSp)\n",
    "unique(inputFile$Parch)"
   ]
  },
  {
   "cell_type": "markdown",
   "id": "large-remains",
   "metadata": {},
   "source": [
    "## Usunięcie wartości innych niż wspomnianych w poprzednim kroku, znajdujących się w kolumnie Embarked oraz Sex"
   ]
  },
  {
   "cell_type": "code",
   "execution_count": 79,
   "id": "outdoor-milan",
   "metadata": {},
   "outputs": [],
   "source": [
    "inputFile <- inputFile[(inputFile$Embarked =='S' | inputFile$Embarked =='C' | inputFile$Embarked =='Q'),]\n",
    "inputFile <- inputFile[(inputFile$Sex =='male' | inputFile$Sex =='female'),]"
   ]
  },
  {
   "cell_type": "markdown",
   "id": "proprietary-terrorism",
   "metadata": {},
   "source": [
    "## Sprawdzenie jak wiele pustych komórek zawiera się w kolejnych kolumnach"
   ]
  },
  {
   "cell_type": "code",
   "execution_count": 80,
   "id": "laughing-fisher",
   "metadata": {},
   "outputs": [
    {
     "data": {
      "text/html": [
       "523"
      ],
      "text/latex": [
       "523"
      ],
      "text/markdown": [
       "523"
      ],
      "text/plain": [
       "[1] 523"
      ]
     },
     "metadata": {},
     "output_type": "display_data"
    },
    {
     "data": {
      "text/html": [
       "0"
      ],
      "text/latex": [
       "0"
      ],
      "text/markdown": [
       "0"
      ],
      "text/plain": [
       "[1] 0"
      ]
     },
     "metadata": {},
     "output_type": "display_data"
    },
    {
     "data": {
      "text/html": [
       "0"
      ],
      "text/latex": [
       "0"
      ],
      "text/markdown": [
       "0"
      ],
      "text/plain": [
       "[1] 0"
      ]
     },
     "metadata": {},
     "output_type": "display_data"
    },
    {
     "data": {
      "text/html": [
       "0"
      ],
      "text/latex": [
       "0"
      ],
      "text/markdown": [
       "0"
      ],
      "text/plain": [
       "[1] 0"
      ]
     },
     "metadata": {},
     "output_type": "display_data"
    },
    {
     "data": {
      "text/html": [
       "0"
      ],
      "text/latex": [
       "0"
      ],
      "text/markdown": [
       "0"
      ],
      "text/plain": [
       "[1] 0"
      ]
     },
     "metadata": {},
     "output_type": "display_data"
    }
   ],
   "source": [
    "sum(inputFile$Cabin == \"\")\n",
    "sum(inputFile$Ticket == \"\")\n",
    "sum(inputFile$Name == \"\")\n",
    "sum(inputFile$Survived == \"\")\n",
    "sum(inputFile$Pclass == \"\")"
   ]
  },
  {
   "cell_type": "markdown",
   "id": "royal-enlargement",
   "metadata": {},
   "source": [
    "## Usunięcie kolumny Cabin, z powodu nadmiernej ilości pustych danych"
   ]
  },
  {
   "cell_type": "code",
   "execution_count": 81,
   "id": "rocky-profession",
   "metadata": {},
   "outputs": [],
   "source": [
    "inputFile <- inputFile[ , !(names(inputFile) %in% c(\"Cabin\"))]"
   ]
  },
  {
   "cell_type": "code",
   "execution_count": 82,
   "id": "developed-workplace",
   "metadata": {},
   "outputs": [],
   "source": [
    "inputFile$Sex <- as.factor(inputFile$Sex)\n",
    "inputFile$Embarked <- as.factor(inputFile$Embarked)\n",
    "inputFile$Survived <- as.factor(inputFile$Survived)\n",
    "inputFile$Pclass <- as.factor(inputFile$Pclass)"
   ]
  },
  {
   "cell_type": "markdown",
   "id": "smaller-sending",
   "metadata": {},
   "source": [
    "## Stworzenie histogramów w celu określenia wartości w danych kolumnach i zidentyfikowanie ewentualnych wartości odstających"
   ]
  },
  {
   "cell_type": "code",
   "execution_count": 83,
   "id": "opening-integration",
   "metadata": {},
   "outputs": [
    {
     "data": {
      "image/png": "[encoded data removed]",
      "text/plain": [
       "Plot with title \"Histogram of inputFile$Age\""
      ]
     },
     "metadata": {
      "image/png": {
       "height": 420,
       "width": 420
      }
     },
     "output_type": "display_data"
    },
    {
     "data": {
      "image/png": "[encoded data removed]",
      "text/plain": [
       "Plot with title \"Histogram of inputFile$SibSp\""
      ]
     },
     "metadata": {
      "image/png": {
       "height": 420,
       "width": 420
      }
     },
     "output_type": "display_data"
    },
    {
     "data": {
      "image/png": "[encoded data removed]",
      "text/plain": [
       "Plot with title \"Histogram of inputFile$Parch\""
      ]
     },
     "metadata": {
      "image/png": {
       "height": 420,
       "width": 420
      }
     },
     "output_type": "display_data"
    },
    {
     "data": {
      "image/png": "[encoded data removed]",
      "text/plain": [
       "Plot with title \"Histogram of inputFile$Fare\""
      ]
     },
     "metadata": {
      "image/png": {
       "height": 420,
       "width": 420
      }
     },
     "output_type": "display_data"
    }
   ],
   "source": [
    "hist(inputFile$Age)\n",
    "hist(inputFile$SibSp)\n",
    "hist(inputFile$Parch)\n",
    "hist(inputFile$Fare)"
   ]
  },
  {
   "cell_type": "markdown",
   "id": "premier-sewing",
   "metadata": {},
   "source": [
    "## Na bazie histogramu wnioskuję, że znaleziono wartości nieprawidłowe (odstające wartości powyżej ~350)"
   ]
  },
  {
   "cell_type": "code",
   "execution_count": 84,
   "id": "sustainable-switzerland",
   "metadata": {},
   "outputs": [],
   "source": [
    "inputFile <- inputFile[!(inputFile$Fare >350),]"
   ]
  },
  {
   "cell_type": "code",
   "execution_count": 85,
   "id": "worldwide-auction",
   "metadata": {},
   "outputs": [
    {
     "data": {
      "image/png": "[encoded data removed]",
      "text/plain": [
       "Plot with title \"Histogram of inputFile$Fare\""
      ]
     },
     "metadata": {
      "image/png": {
       "height": 420,
       "width": 420
      }
     },
     "output_type": "display_data"
    }
   ],
   "source": [
    "hist(inputFile$Fare)"
   ]
  },
  {
   "cell_type": "markdown",
   "id": "sophisticated-absolute",
   "metadata": {},
   "source": [
    "## Zapisanie do pliku"
   ]
  },
  {
   "cell_type": "code",
   "execution_count": 86,
   "id": "iraqi-calcium",
   "metadata": {},
   "outputs": [
    {
     "data": {
      "text/html": [
       "<table class=\"dataframe\">\n",
       "<caption>A data.frame: 701 × 10</caption>\n",
       "<thead>\n",
       "\t<tr><th></th><th scope=col>Survived</th><th scope=col>Pclass</th><th scope=col>Name</th><th scope=col>Sex</th><th scope=col>Age</th><th scope=col>SibSp</th><th scope=col>Parch</th><th scope=col>Ticket</th><th scope=col>Fare</th><th scope=col>Embarked</th></tr>\n",
       "\t<tr><th></th><th scope=col>&lt;fct&gt;</th><th scope=col>&lt;fct&gt;</th><th scope=col>&lt;chr&gt;</th><th scope=col>&lt;fct&gt;</th><th scope=col>&lt;dbl&gt;</th><th scope=col>&lt;int&gt;</th><th scope=col>&lt;int&gt;</th><th scope=col>&lt;chr&gt;</th><th scope=col>&lt;dbl&gt;</th><th scope=col>&lt;fct&gt;</th></tr>\n",
       "</thead>\n",
       "<tbody>\n",
       "\t<tr><th scope=row>1</th><td>0</td><td>3</td><td>Braund, Mr. Owen Harris                                  </td><td>male  </td><td>22</td><td>1</td><td>0</td><td>A/5 21171       </td><td>  7.2500</td><td>S</td></tr>\n",
       "\t<tr><th scope=row>2</th><td>1</td><td>1</td><td>Cumings, Mrs. John Bradley (Florence Briggs Thayer)      </td><td>female</td><td>38</td><td>1</td><td>0</td><td>PC 17599        </td><td> 71.2833</td><td>C</td></tr>\n",
       "\t<tr><th scope=row>3</th><td>1</td><td>3</td><td>Heikkinen, Miss. Laina                                   </td><td>female</td><td>26</td><td>0</td><td>0</td><td>STON/O2. 3101282</td><td>  7.9250</td><td>S</td></tr>\n",
       "\t<tr><th scope=row>4</th><td>1</td><td>1</td><td>Futrelle, Mrs. Jacques Heath (Lily May Peel)             </td><td>female</td><td>35</td><td>1</td><td>0</td><td>113803          </td><td> 53.1000</td><td>S</td></tr>\n",
       "\t<tr><th scope=row>5</th><td>0</td><td>3</td><td>Allen, Mr. William Henry                                 </td><td>male  </td><td>35</td><td>0</td><td>0</td><td>373450          </td><td>  8.0500</td><td>S</td></tr>\n",
       "\t<tr><th scope=row>7</th><td>0</td><td>1</td><td>McCarthy, Mr. Timothy J                                  </td><td>male  </td><td>54</td><td>0</td><td>0</td><td>17463           </td><td> 51.8625</td><td>S</td></tr>\n",
       "\t<tr><th scope=row>8</th><td>0</td><td>3</td><td>Palsson, Master. Gosta Leonard                           </td><td>male  </td><td> 2</td><td>3</td><td>1</td><td>349909          </td><td> 21.0750</td><td>S</td></tr>\n",
       "\t<tr><th scope=row>9</th><td>1</td><td>3</td><td>Johnson, Mrs. Oscar W (Elisabeth Vilhelmina Berg)        </td><td>female</td><td>27</td><td>0</td><td>2</td><td>347742          </td><td> 11.1333</td><td>S</td></tr>\n",
       "\t<tr><th scope=row>10</th><td>1</td><td>2</td><td>Nasser, Mrs. Nicholas (Adele Achem)                      </td><td>female</td><td>14</td><td>1</td><td>0</td><td>237736          </td><td> 30.0708</td><td>C</td></tr>\n",
       "\t<tr><th scope=row>11</th><td>1</td><td>3</td><td><span style=white-space:pre-wrap>Sandstrom, Miss. Marguerite Ru&amp;5$$                       </span></td><td>female</td><td> 4</td><td>1</td><td>1</td><td><span style=white-space:pre-wrap>PP 9549         </span></td><td> 16.7000</td><td>S</td></tr>\n",
       "\t<tr><th scope=row>12</th><td>1</td><td>1</td><td>Bonnell, Miss. Elizabeth                                 </td><td>female</td><td>58</td><td>0</td><td>0</td><td>113783          </td><td> 26.5500</td><td>S</td></tr>\n",
       "\t<tr><th scope=row>13</th><td>0</td><td>3</td><td>Saundercock, Mr. William Henry                           </td><td>male  </td><td>20</td><td>0</td><td>0</td><td>A/5. 2151       </td><td>  8.0500</td><td>S</td></tr>\n",
       "\t<tr><th scope=row>14</th><td>0</td><td>3</td><td>Vestrom, Miss. Hulda Amanda Adolfina                     </td><td>female</td><td>14</td><td>0</td><td>0</td><td>350406          </td><td>  7.8542</td><td>S</td></tr>\n",
       "\t<tr><th scope=row>15</th><td>1</td><td>2</td><td>Hewlett, Mrs. (Mary D Kingcome)                          </td><td>female</td><td>55</td><td>0</td><td>0</td><td>248706          </td><td> 16.0000</td><td>S</td></tr>\n",
       "\t<tr><th scope=row>16</th><td>0</td><td>3</td><td>Rice, Master. Eugene                                     </td><td>male  </td><td> 2</td><td>4</td><td>1</td><td>382652          </td><td> 29.1250</td><td>Q</td></tr>\n",
       "\t<tr><th scope=row>18</th><td>0</td><td>3</td><td>Vander Planke, Mrs. Julius (Emelia Maria Vandemoortele)  </td><td>female</td><td>31</td><td>1</td><td>0</td><td>345763          </td><td> 18.0000</td><td>S</td></tr>\n",
       "\t<tr><th scope=row>20</th><td>0</td><td>2</td><td>Fynney, Mr. Joseph J                                     </td><td>male  </td><td>35</td><td>0</td><td>0</td><td>239865          </td><td> 26.0000</td><td>S</td></tr>\n",
       "\t<tr><th scope=row>22</th><td>1</td><td>3</td><td>McGowan, Miss. Anna \"Annie\"                              </td><td>female</td><td>15</td><td>0</td><td>0</td><td>330923          </td><td>  8.0292</td><td>Q</td></tr>\n",
       "\t<tr><th scope=row>23</th><td>0</td><td>3</td><td>Palsson, Miss. Torborg Danira                            </td><td>female</td><td> 8</td><td>3</td><td>1</td><td>349909          </td><td> 21.0750</td><td>S</td></tr>\n",
       "\t<tr><th scope=row>24</th><td>1</td><td>3</td><td>Asplund, Mrs. Carl Oscar (Selma Augusta Emilia Johansson)</td><td>female</td><td>38</td><td>1</td><td>5</td><td>347077          </td><td> 31.3875</td><td>S</td></tr>\n",
       "\t<tr><th scope=row>26</th><td>0</td><td>1</td><td>Fortune, Mr. Charles Alexander                           </td><td>male  </td><td>19</td><td>3</td><td>2</td><td>19950           </td><td>263.0000</td><td>S</td></tr>\n",
       "\t<tr><th scope=row>29</th><td>0</td><td>1</td><td>Uruchurtu, Don. Manuel E                                 </td><td>male  </td><td>40</td><td>0</td><td>0</td><td>PC 17601        </td><td> 27.7208</td><td>C</td></tr>\n",
       "\t<tr><th scope=row>30</th><td>1</td><td>1</td><td>Spencer, Mrs. William Augustus (Marie Eugenie)           </td><td>female</td><td> 9</td><td>1</td><td>0</td><td>PC 17569        </td><td>146.5208</td><td>C</td></tr>\n",
       "\t<tr><th scope=row>32</th><td>0</td><td>2</td><td>Wheadon, Mr. Edward H                                    </td><td>male  </td><td>66</td><td>0</td><td>0</td><td>C.A. 24579      </td><td> 10.5000</td><td>S</td></tr>\n",
       "\t<tr><th scope=row>33</th><td>0</td><td>1</td><td>Meyer, Mr. Edgar Joseph                                  </td><td>male  </td><td>28</td><td>1</td><td>0</td><td>PC 17604        </td><td> 82.1708</td><td>C</td></tr>\n",
       "\t<tr><th scope=row>34</th><td>0</td><td>1</td><td>Holverson, Mr. Alexander Oskar                           </td><td>male  </td><td>42</td><td>1</td><td>0</td><td>113789          </td><td> 52.0000</td><td>S</td></tr>\n",
       "\t<tr><th scope=row>36</th><td>0</td><td>3</td><td>Cann, Mr. Ernest Charles                                 </td><td>male  </td><td>21</td><td>0</td><td>0</td><td>A./5. 2152      </td><td>  8.0500</td><td>S</td></tr>\n",
       "\t<tr><th scope=row>37</th><td>0</td><td>3</td><td>Vander Planke, Miss. Augusta Maria                       </td><td>female</td><td>18</td><td>2</td><td>0</td><td>345764          </td><td> 18.0000</td><td>S</td></tr>\n",
       "\t<tr><th scope=row>38</th><td>1</td><td>3</td><td>Nicola-Yarred, Miss. Jamila                              </td><td>female</td><td>14</td><td>1</td><td>0</td><td>2651            </td><td> 11.2417</td><td>C</td></tr>\n",
       "\t<tr><th scope=row>39</th><td>0</td><td>3</td><td>Ahlin, Mrs. Johan (Johanna Persdotter Larsson)           </td><td>female</td><td>40</td><td>1</td><td>0</td><td>7546            </td><td>  9.4750</td><td>S</td></tr>\n",
       "\t<tr><th scope=row>...</th><td>...</td><td>...</td><td>...</td><td>...</td><td>...</td><td>...</td><td>...</td><td>...</td><td>...</td><td>...</td></tr>\n",
       "\t<tr><th scope=row>855</th><td>1</td><td>1</td><td>Daly, Mr. Peter Denis                              </td><td>male  </td><td>51</td><td>0</td><td>0</td><td>113055          </td><td>26.5500</td><td>S</td></tr>\n",
       "\t<tr><th scope=row>856</th><td>1</td><td>3</td><td>Baclini, Mrs. Solomon (Latifa Qurban)              </td><td>female</td><td>24</td><td>0</td><td>3</td><td>2666            </td><td>19.2583</td><td>C</td></tr>\n",
       "\t<tr><th scope=row>858</th><td>0</td><td>3</td><td>Hansen, Mr. Claus Peter                            </td><td>male  </td><td>41</td><td>2</td><td>0</td><td>350026          </td><td>14.1083</td><td>S</td></tr>\n",
       "\t<tr><th scope=row>859</th><td>0</td><td>2</td><td>Giles, Mr. Frederick Edward                        </td><td>male  </td><td>21</td><td>1</td><td>0</td><td>28134           </td><td>11.5000</td><td>S</td></tr>\n",
       "\t<tr><th scope=row>860</th><td>1</td><td>1</td><td>Swift, Mrs. Frederick Joel (Margaret Welles Barron)</td><td>female</td><td>48</td><td>0</td><td>0</td><td>17466           </td><td>25.9292</td><td>S</td></tr>\n",
       "\t<tr><th scope=row>862</th><td>0</td><td>2</td><td>Gill, Mr. John William                             </td><td>male  </td><td>24</td><td>0</td><td>0</td><td>233866          </td><td>13.0000</td><td>S</td></tr>\n",
       "\t<tr><th scope=row>863</th><td>1</td><td>2</td><td>Bystrom, Mrs. (Karolina)                           </td><td>female</td><td>42</td><td>0</td><td>0</td><td>236852          </td><td>13.0000</td><td>S</td></tr>\n",
       "\t<tr><th scope=row>864</th><td>1</td><td>2</td><td>Duran y More, Miss. Asuncion                       </td><td>female</td><td>27</td><td>1</td><td>0</td><td>SC/PARIS 2149   </td><td>13.8583</td><td>C</td></tr>\n",
       "\t<tr><th scope=row>865</th><td>0</td><td>1</td><td>Roebling, Mr. Washington Augustus II               </td><td>male  </td><td>31</td><td>0</td><td>0</td><td>PC 17590        </td><td>50.4958</td><td>S</td></tr>\n",
       "\t<tr><th scope=row>867</th><td>1</td><td>3</td><td>Johnson, Master. Harold Theodor                    </td><td>male  </td><td> 4</td><td>1</td><td>1</td><td>347742          </td><td>11.1333</td><td>S</td></tr>\n",
       "\t<tr><th scope=row>868</th><td>0</td><td>3</td><td>Balkic, Mr. Cerin                                  </td><td>male  </td><td>26</td><td>0</td><td>0</td><td>349248          </td><td> 7.8958</td><td>S</td></tr>\n",
       "\t<tr><th scope=row>869</th><td>1</td><td>1</td><td>Beckwith, Mrs. Richard Leonard (Sallie Monypeny)   </td><td>female</td><td>47</td><td>1</td><td>1</td><td>11751           </td><td>52.5542</td><td>S</td></tr>\n",
       "\t<tr><th scope=row>870</th><td>0</td><td>1</td><td>Carlsson, Mr. Frans Olof                           </td><td>male  </td><td>33</td><td>0</td><td>0</td><td>695             </td><td> 5.0000</td><td>S</td></tr>\n",
       "\t<tr><th scope=row>871</th><td>0</td><td>3</td><td>Vander Cruyssen, Mr. Victor                        </td><td>male  </td><td>47</td><td>0</td><td>0</td><td>345765          </td><td> 9.0000</td><td>S</td></tr>\n",
       "\t<tr><th scope=row>872</th><td>1</td><td>2</td><td>Abelson, Mrs. Samuel (Hannah Wizosky)              </td><td>female</td><td>28</td><td>1</td><td>0</td><td>P/PP 3381       </td><td>24.0000</td><td>C</td></tr>\n",
       "\t<tr><th scope=row>873</th><td>1</td><td>3</td><td>Najib, Miss. Adele Kiamie \"Jane\"                   </td><td>female</td><td>15</td><td>0</td><td>0</td><td>2667            </td><td> 7.2250</td><td>C</td></tr>\n",
       "\t<tr><th scope=row>874</th><td>0</td><td>3</td><td>Gustafsson, Mr. Alfred Ossian                      </td><td>male  </td><td>20</td><td>0</td><td>0</td><td>7534            </td><td> 9.8458</td><td>S</td></tr>\n",
       "\t<tr><th scope=row>875</th><td>0</td><td>3</td><td>Petroff, Mr. Nedelio                               </td><td>male  </td><td>19</td><td>0</td><td>0</td><td>349212          </td><td> 7.8958</td><td>S</td></tr>\n",
       "\t<tr><th scope=row>877</th><td>1</td><td>1</td><td>Potter, Mrs. Thomas Jr (Lily Alexenia Wilson)      </td><td>female</td><td>56</td><td>0</td><td>1</td><td>11767           </td><td>83.1583</td><td>C</td></tr>\n",
       "\t<tr><th scope=row>878</th><td>1</td><td>2</td><td>Shelley, Mrs. William (Imanita Parrish Hall)       </td><td>female</td><td>25</td><td>0</td><td>1</td><td>230433          </td><td>26.0000</td><td>S</td></tr>\n",
       "\t<tr><th scope=row>879</th><td>0</td><td>3</td><td>Markun, Mr. Johann                                 </td><td>male  </td><td>33</td><td>0</td><td>0</td><td>349257          </td><td> 7.8958</td><td>S</td></tr>\n",
       "\t<tr><th scope=row>880</th><td>0</td><td>3</td><td>Dahlberg, Miss. Gerda Ulrika                       </td><td>female</td><td>22</td><td>0</td><td>0</td><td>7552            </td><td>10.5167</td><td>S</td></tr>\n",
       "\t<tr><th scope=row>881</th><td>0</td><td>2</td><td>Banfield, Mr. Frederick James                      </td><td>male  </td><td>28</td><td>0</td><td>0</td><td>C.A./SOTON 34068</td><td>10.5000</td><td>S</td></tr>\n",
       "\t<tr><th scope=row>882</th><td>0</td><td>3</td><td>Sutehall, Mr. Henry Jr                             </td><td>male  </td><td>25</td><td>0</td><td>0</td><td>SOTON/OQ 392076 </td><td> 7.0500</td><td>S</td></tr>\n",
       "\t<tr><th scope=row>883</th><td>0</td><td>3</td><td>Rice, Mrs. William (Margaret Norton)               </td><td>female</td><td>39</td><td>0</td><td>5</td><td>382652          </td><td>29.1250</td><td>Q</td></tr>\n",
       "\t<tr><th scope=row>884</th><td>0</td><td>2</td><td>Montvila, Rev. Juozas                              </td><td>male  </td><td>27</td><td>0</td><td>0</td><td>211536          </td><td>13.0000</td><td>S</td></tr>\n",
       "\t<tr><th scope=row>885</th><td>1</td><td>1</td><td>Graham, Miss. Margaret Edith                       </td><td>female</td><td>19</td><td>0</td><td>0</td><td>112053          </td><td>30.0000</td><td>S</td></tr>\n",
       "\t<tr><th scope=row>887</th><td>1</td><td>1</td><td>Behr, Mr. Karl Howell                              </td><td>male  </td><td>26</td><td>0</td><td>0</td><td>111369          </td><td>30.0000</td><td>C</td></tr>\n",
       "\t<tr><th scope=row>888</th><td>0</td><td>3</td><td>Dooley, Mr. Patrick                                </td><td>male  </td><td>32</td><td>0</td><td>0</td><td>370376          </td><td> 7.7500</td><td>Q</td></tr>\n",
       "\t<tr><th scope=row>889</th><td>1</td><td>1</td><td>Mr. Frederick Maxfield Hoyt                        </td><td>male  </td><td>38</td><td>1</td><td>0</td><td>19943           </td><td>90.0000</td><td>S</td></tr>\n",
       "</tbody>\n",
       "</table>\n"
      ],
      "text/latex": [
       "A data.frame: 701 × 10\n",
       "\\begin{tabular}{r|llllllllll}\n",
       "  & Survived & Pclass & Name & Sex & Age & SibSp & Parch & Ticket & Fare & Embarked\\\\\n",
       "  & <fct> & <fct> & <chr> & <fct> & <dbl> & <int> & <int> & <chr> & <dbl> & <fct>\\\\\n",
       "\\hline\n",
       "\t1 & 0 & 3 & Braund, Mr. Owen Harris                                   & male   & 22 & 1 & 0 & A/5 21171        &   7.2500 & S\\\\\n",
       "\t2 & 1 & 1 & Cumings, Mrs. John Bradley (Florence Briggs Thayer)       & female & 38 & 1 & 0 & PC 17599         &  71.2833 & C\\\\\n",
       "\t3 & 1 & 3 & Heikkinen, Miss. Laina                                    & female & 26 & 0 & 0 & STON/O2. 3101282 &   7.9250 & S\\\\\n",
       "\t4 & 1 & 1 & Futrelle, Mrs. Jacques Heath (Lily May Peel)              & female & 35 & 1 & 0 & 113803           &  53.1000 & S\\\\\n",
       "\t5 & 0 & 3 & Allen, Mr. William Henry                                  & male   & 35 & 0 & 0 & 373450           &   8.0500 & S\\\\\n",
       "\t7 & 0 & 1 & McCarthy, Mr. Timothy J                                   & male   & 54 & 0 & 0 & 17463            &  51.8625 & S\\\\\n",
       "\t8 & 0 & 3 & Palsson, Master. Gosta Leonard                            & male   &  2 & 3 & 1 & 349909           &  21.0750 & S\\\\\n",
       "\t9 & 1 & 3 & Johnson, Mrs. Oscar W (Elisabeth Vilhelmina Berg)         & female & 27 & 0 & 2 & 347742           &  11.1333 & S\\\\\n",
       "\t10 & 1 & 2 & Nasser, Mrs. Nicholas (Adele Achem)                       & female & 14 & 1 & 0 & 237736           &  30.0708 & C\\\\\n",
       "\t11 & 1 & 3 & Sandstrom, Miss. Marguerite Ru\\&5\\$\\$                        & female &  4 & 1 & 1 & PP 9549          &  16.7000 & S\\\\\n",
       "\t12 & 1 & 1 & Bonnell, Miss. Elizabeth                                  & female & 58 & 0 & 0 & 113783           &  26.5500 & S\\\\\n",
       "\t13 & 0 & 3 & Saundercock, Mr. William Henry                            & male   & 20 & 0 & 0 & A/5. 2151        &   8.0500 & S\\\\\n",
       "\t14 & 0 & 3 & Vestrom, Miss. Hulda Amanda Adolfina                      & female & 14 & 0 & 0 & 350406           &   7.8542 & S\\\\\n",
       "\t15 & 1 & 2 & Hewlett, Mrs. (Mary D Kingcome)                           & female & 55 & 0 & 0 & 248706           &  16.0000 & S\\\\\n",
       "\t16 & 0 & 3 & Rice, Master. Eugene                                      & male   &  2 & 4 & 1 & 382652           &  29.1250 & Q\\\\\n",
       "\t18 & 0 & 3 & Vander Planke, Mrs. Julius (Emelia Maria Vandemoortele)   & female & 31 & 1 & 0 & 345763           &  18.0000 & S\\\\\n",
       "\t20 & 0 & 2 & Fynney, Mr. Joseph J                                      & male   & 35 & 0 & 0 & 239865           &  26.0000 & S\\\\\n",
       "\t22 & 1 & 3 & McGowan, Miss. Anna \"Annie\"                               & female & 15 & 0 & 0 & 330923           &   8.0292 & Q\\\\\n",
       "\t23 & 0 & 3 & Palsson, Miss. Torborg Danira                             & female &  8 & 3 & 1 & 349909           &  21.0750 & S\\\\\n",
       "\t24 & 1 & 3 & Asplund, Mrs. Carl Oscar (Selma Augusta Emilia Johansson) & female & 38 & 1 & 5 & 347077           &  31.3875 & S\\\\\n",
       "\t26 & 0 & 1 & Fortune, Mr. Charles Alexander                            & male   & 19 & 3 & 2 & 19950            & 263.0000 & S\\\\\n",
       "\t29 & 0 & 1 & Uruchurtu, Don. Manuel E                                  & male   & 40 & 0 & 0 & PC 17601         &  27.7208 & C\\\\\n",
       "\t30 & 1 & 1 & Spencer, Mrs. William Augustus (Marie Eugenie)            & female &  9 & 1 & 0 & PC 17569         & 146.5208 & C\\\\\n",
       "\t32 & 0 & 2 & Wheadon, Mr. Edward H                                     & male   & 66 & 0 & 0 & C.A. 24579       &  10.5000 & S\\\\\n",
       "\t33 & 0 & 1 & Meyer, Mr. Edgar Joseph                                   & male   & 28 & 1 & 0 & PC 17604         &  82.1708 & C\\\\\n",
       "\t34 & 0 & 1 & Holverson, Mr. Alexander Oskar                            & male   & 42 & 1 & 0 & 113789           &  52.0000 & S\\\\\n",
       "\t36 & 0 & 3 & Cann, Mr. Ernest Charles                                  & male   & 21 & 0 & 0 & A./5. 2152       &   8.0500 & S\\\\\n",
       "\t37 & 0 & 3 & Vander Planke, Miss. Augusta Maria                        & female & 18 & 2 & 0 & 345764           &  18.0000 & S\\\\\n",
       "\t38 & 1 & 3 & Nicola-Yarred, Miss. Jamila                               & female & 14 & 1 & 0 & 2651             &  11.2417 & C\\\\\n",
       "\t39 & 0 & 3 & Ahlin, Mrs. Johan (Johanna Persdotter Larsson)            & female & 40 & 1 & 0 & 7546             &   9.4750 & S\\\\\n",
       "\t... & ... & ... & ... & ... & ... & ... & ... & ... & ... & ...\\\\\n",
       "\t855 & 1 & 1 & Daly, Mr. Peter Denis                               & male   & 51 & 0 & 0 & 113055           & 26.5500 & S\\\\\n",
       "\t856 & 1 & 3 & Baclini, Mrs. Solomon (Latifa Qurban)               & female & 24 & 0 & 3 & 2666             & 19.2583 & C\\\\\n",
       "\t858 & 0 & 3 & Hansen, Mr. Claus Peter                             & male   & 41 & 2 & 0 & 350026           & 14.1083 & S\\\\\n",
       "\t859 & 0 & 2 & Giles, Mr. Frederick Edward                         & male   & 21 & 1 & 0 & 28134            & 11.5000 & S\\\\\n",
       "\t860 & 1 & 1 & Swift, Mrs. Frederick Joel (Margaret Welles Barron) & female & 48 & 0 & 0 & 17466            & 25.9292 & S\\\\\n",
       "\t862 & 0 & 2 & Gill, Mr. John William                              & male   & 24 & 0 & 0 & 233866           & 13.0000 & S\\\\\n",
       "\t863 & 1 & 2 & Bystrom, Mrs. (Karolina)                            & female & 42 & 0 & 0 & 236852           & 13.0000 & S\\\\\n",
       "\t864 & 1 & 2 & Duran y More, Miss. Asuncion                        & female & 27 & 1 & 0 & SC/PARIS 2149    & 13.8583 & C\\\\\n",
       "\t865 & 0 & 1 & Roebling, Mr. Washington Augustus II                & male   & 31 & 0 & 0 & PC 17590         & 50.4958 & S\\\\\n",
       "\t867 & 1 & 3 & Johnson, Master. Harold Theodor                     & male   &  4 & 1 & 1 & 347742           & 11.1333 & S\\\\\n",
       "\t868 & 0 & 3 & Balkic, Mr. Cerin                                   & male   & 26 & 0 & 0 & 349248           &  7.8958 & S\\\\\n",
       "\t869 & 1 & 1 & Beckwith, Mrs. Richard Leonard (Sallie Monypeny)    & female & 47 & 1 & 1 & 11751            & 52.5542 & S\\\\\n",
       "\t870 & 0 & 1 & Carlsson, Mr. Frans Olof                            & male   & 33 & 0 & 0 & 695              &  5.0000 & S\\\\\n",
       "\t871 & 0 & 3 & Vander Cruyssen, Mr. Victor                         & male   & 47 & 0 & 0 & 345765           &  9.0000 & S\\\\\n",
       "\t872 & 1 & 2 & Abelson, Mrs. Samuel (Hannah Wizosky)               & female & 28 & 1 & 0 & P/PP 3381        & 24.0000 & C\\\\\n",
       "\t873 & 1 & 3 & Najib, Miss. Adele Kiamie \"Jane\"                    & female & 15 & 0 & 0 & 2667             &  7.2250 & C\\\\\n",
       "\t874 & 0 & 3 & Gustafsson, Mr. Alfred Ossian                       & male   & 20 & 0 & 0 & 7534             &  9.8458 & S\\\\\n",
       "\t875 & 0 & 3 & Petroff, Mr. Nedelio                                & male   & 19 & 0 & 0 & 349212           &  7.8958 & S\\\\\n",
       "\t877 & 1 & 1 & Potter, Mrs. Thomas Jr (Lily Alexenia Wilson)       & female & 56 & 0 & 1 & 11767            & 83.1583 & C\\\\\n",
       "\t878 & 1 & 2 & Shelley, Mrs. William (Imanita Parrish Hall)        & female & 25 & 0 & 1 & 230433           & 26.0000 & S\\\\\n",
       "\t879 & 0 & 3 & Markun, Mr. Johann                                  & male   & 33 & 0 & 0 & 349257           &  7.8958 & S\\\\\n",
       "\t880 & 0 & 3 & Dahlberg, Miss. Gerda Ulrika                        & female & 22 & 0 & 0 & 7552             & 10.5167 & S\\\\\n",
       "\t881 & 0 & 2 & Banfield, Mr. Frederick James                       & male   & 28 & 0 & 0 & C.A./SOTON 34068 & 10.5000 & S\\\\\n",
       "\t882 & 0 & 3 & Sutehall, Mr. Henry Jr                              & male   & 25 & 0 & 0 & SOTON/OQ 392076  &  7.0500 & S\\\\\n",
       "\t883 & 0 & 3 & Rice, Mrs. William (Margaret Norton)                & female & 39 & 0 & 5 & 382652           & 29.1250 & Q\\\\\n",
       "\t884 & 0 & 2 & Montvila, Rev. Juozas                               & male   & 27 & 0 & 0 & 211536           & 13.0000 & S\\\\\n",
       "\t885 & 1 & 1 & Graham, Miss. Margaret Edith                        & female & 19 & 0 & 0 & 112053           & 30.0000 & S\\\\\n",
       "\t887 & 1 & 1 & Behr, Mr. Karl Howell                               & male   & 26 & 0 & 0 & 111369           & 30.0000 & C\\\\\n",
       "\t888 & 0 & 3 & Dooley, Mr. Patrick                                 & male   & 32 & 0 & 0 & 370376           &  7.7500 & Q\\\\\n",
       "\t889 & 1 & 1 & Mr. Frederick Maxfield Hoyt                         & male   & 38 & 1 & 0 & 19943            & 90.0000 & S\\\\\n",
       "\\end{tabular}\n"
      ],
      "text/markdown": [
       "\n",
       "A data.frame: 701 × 10\n",
       "\n",
       "| <!--/--> | Survived &lt;fct&gt; | Pclass &lt;fct&gt; | Name &lt;chr&gt; | Sex &lt;fct&gt; | Age &lt;dbl&gt; | SibSp &lt;int&gt; | Parch &lt;int&gt; | Ticket &lt;chr&gt; | Fare &lt;dbl&gt; | Embarked &lt;fct&gt; |\n",
       "|---|---|---|---|---|---|---|---|---|---|---|\n",
       "| 1 | 0 | 3 | Braund, Mr. Owen Harris                                   | male   | 22 | 1 | 0 | A/5 21171        |   7.2500 | S |\n",
       "| 2 | 1 | 1 | Cumings, Mrs. John Bradley (Florence Briggs Thayer)       | female | 38 | 1 | 0 | PC 17599         |  71.2833 | C |\n",
       "| 3 | 1 | 3 | Heikkinen, Miss. Laina                                    | female | 26 | 0 | 0 | STON/O2. 3101282 |   7.9250 | S |\n",
       "| 4 | 1 | 1 | Futrelle, Mrs. Jacques Heath (Lily May Peel)              | female | 35 | 1 | 0 | 113803           |  53.1000 | S |\n",
       "| 5 | 0 | 3 | Allen, Mr. William Henry                                  | male   | 35 | 0 | 0 | 373450           |   8.0500 | S |\n",
       "| 7 | 0 | 1 | McCarthy, Mr. Timothy J                                   | male   | 54 | 0 | 0 | 17463            |  51.8625 | S |\n",
       "| 8 | 0 | 3 | Palsson, Master. Gosta Leonard                            | male   |  2 | 3 | 1 | 349909           |  21.0750 | S |\n",
       "| 9 | 1 | 3 | Johnson, Mrs. Oscar W (Elisabeth Vilhelmina Berg)         | female | 27 | 0 | 2 | 347742           |  11.1333 | S |\n",
       "| 10 | 1 | 2 | Nasser, Mrs. Nicholas (Adele Achem)                       | female | 14 | 1 | 0 | 237736           |  30.0708 | C |\n",
       "| 11 | 1 | 3 | Sandstrom, Miss. Marguerite Ru&amp;5$$                        | female |  4 | 1 | 1 | PP 9549          |  16.7000 | S |\n",
       "| 12 | 1 | 1 | Bonnell, Miss. Elizabeth                                  | female | 58 | 0 | 0 | 113783           |  26.5500 | S |\n",
       "| 13 | 0 | 3 | Saundercock, Mr. William Henry                            | male   | 20 | 0 | 0 | A/5. 2151        |   8.0500 | S |\n",
       "| 14 | 0 | 3 | Vestrom, Miss. Hulda Amanda Adolfina                      | female | 14 | 0 | 0 | 350406           |   7.8542 | S |\n",
       "| 15 | 1 | 2 | Hewlett, Mrs. (Mary D Kingcome)                           | female | 55 | 0 | 0 | 248706           |  16.0000 | S |\n",
       "| 16 | 0 | 3 | Rice, Master. Eugene                                      | male   |  2 | 4 | 1 | 382652           |  29.1250 | Q |\n",
       "| 18 | 0 | 3 | Vander Planke, Mrs. Julius (Emelia Maria Vandemoortele)   | female | 31 | 1 | 0 | 345763           |  18.0000 | S |\n",
       "| 20 | 0 | 2 | Fynney, Mr. Joseph J                                      | male   | 35 | 0 | 0 | 239865           |  26.0000 | S |\n",
       "| 22 | 1 | 3 | McGowan, Miss. Anna \"Annie\"                               | female | 15 | 0 | 0 | 330923           |   8.0292 | Q |\n",
       "| 23 | 0 | 3 | Palsson, Miss. Torborg Danira                             | female |  8 | 3 | 1 | 349909           |  21.0750 | S |\n",
       "| 24 | 1 | 3 | Asplund, Mrs. Carl Oscar (Selma Augusta Emilia Johansson) | female | 38 | 1 | 5 | 347077           |  31.3875 | S |\n",
       "| 26 | 0 | 1 | Fortune, Mr. Charles Alexander                            | male   | 19 | 3 | 2 | 19950            | 263.0000 | S |\n",
       "| 29 | 0 | 1 | Uruchurtu, Don. Manuel E                                  | male   | 40 | 0 | 0 | PC 17601         |  27.7208 | C |\n",
       "| 30 | 1 | 1 | Spencer, Mrs. William Augustus (Marie Eugenie)            | female |  9 | 1 | 0 | PC 17569         | 146.5208 | C |\n",
       "| 32 | 0 | 2 | Wheadon, Mr. Edward H                                     | male   | 66 | 0 | 0 | C.A. 24579       |  10.5000 | S |\n",
       "| 33 | 0 | 1 | Meyer, Mr. Edgar Joseph                                   | male   | 28 | 1 | 0 | PC 17604         |  82.1708 | C |\n",
       "| 34 | 0 | 1 | Holverson, Mr. Alexander Oskar                            | male   | 42 | 1 | 0 | 113789           |  52.0000 | S |\n",
       "| 36 | 0 | 3 | Cann, Mr. Ernest Charles                                  | male   | 21 | 0 | 0 | A./5. 2152       |   8.0500 | S |\n",
       "| 37 | 0 | 3 | Vander Planke, Miss. Augusta Maria                        | female | 18 | 2 | 0 | 345764           |  18.0000 | S |\n",
       "| 38 | 1 | 3 | Nicola-Yarred, Miss. Jamila                               | female | 14 | 1 | 0 | 2651             |  11.2417 | C |\n",
       "| 39 | 0 | 3 | Ahlin, Mrs. Johan (Johanna Persdotter Larsson)            | female | 40 | 1 | 0 | 7546             |   9.4750 | S |\n",
       "| ... | ... | ... | ... | ... | ... | ... | ... | ... | ... | ... |\n",
       "| 855 | 1 | 1 | Daly, Mr. Peter Denis                               | male   | 51 | 0 | 0 | 113055           | 26.5500 | S |\n",
       "| 856 | 1 | 3 | Baclini, Mrs. Solomon (Latifa Qurban)               | female | 24 | 0 | 3 | 2666             | 19.2583 | C |\n",
       "| 858 | 0 | 3 | Hansen, Mr. Claus Peter                             | male   | 41 | 2 | 0 | 350026           | 14.1083 | S |\n",
       "| 859 | 0 | 2 | Giles, Mr. Frederick Edward                         | male   | 21 | 1 | 0 | 28134            | 11.5000 | S |\n",
       "| 860 | 1 | 1 | Swift, Mrs. Frederick Joel (Margaret Welles Barron) | female | 48 | 0 | 0 | 17466            | 25.9292 | S |\n",
       "| 862 | 0 | 2 | Gill, Mr. John William                              | male   | 24 | 0 | 0 | 233866           | 13.0000 | S |\n",
       "| 863 | 1 | 2 | Bystrom, Mrs. (Karolina)                            | female | 42 | 0 | 0 | 236852           | 13.0000 | S |\n",
       "| 864 | 1 | 2 | Duran y More, Miss. Asuncion                        | female | 27 | 1 | 0 | SC/PARIS 2149    | 13.8583 | C |\n",
       "| 865 | 0 | 1 | Roebling, Mr. Washington Augustus II                | male   | 31 | 0 | 0 | PC 17590         | 50.4958 | S |\n",
       "| 867 | 1 | 3 | Johnson, Master. Harold Theodor                     | male   |  4 | 1 | 1 | 347742           | 11.1333 | S |\n",
       "| 868 | 0 | 3 | Balkic, Mr. Cerin                                   | male   | 26 | 0 | 0 | 349248           |  7.8958 | S |\n",
       "| 869 | 1 | 1 | Beckwith, Mrs. Richard Leonard (Sallie Monypeny)    | female | 47 | 1 | 1 | 11751            | 52.5542 | S |\n",
       "| 870 | 0 | 1 | Carlsson, Mr. Frans Olof                            | male   | 33 | 0 | 0 | 695              |  5.0000 | S |\n",
       "| 871 | 0 | 3 | Vander Cruyssen, Mr. Victor                         | male   | 47 | 0 | 0 | 345765           |  9.0000 | S |\n",
       "| 872 | 1 | 2 | Abelson, Mrs. Samuel (Hannah Wizosky)               | female | 28 | 1 | 0 | P/PP 3381        | 24.0000 | C |\n",
       "| 873 | 1 | 3 | Najib, Miss. Adele Kiamie \"Jane\"                    | female | 15 | 0 | 0 | 2667             |  7.2250 | C |\n",
       "| 874 | 0 | 3 | Gustafsson, Mr. Alfred Ossian                       | male   | 20 | 0 | 0 | 7534             |  9.8458 | S |\n",
       "| 875 | 0 | 3 | Petroff, Mr. Nedelio                                | male   | 19 | 0 | 0 | 349212           |  7.8958 | S |\n",
       "| 877 | 1 | 1 | Potter, Mrs. Thomas Jr (Lily Alexenia Wilson)       | female | 56 | 0 | 1 | 11767            | 83.1583 | C |\n",
       "| 878 | 1 | 2 | Shelley, Mrs. William (Imanita Parrish Hall)        | female | 25 | 0 | 1 | 230433           | 26.0000 | S |\n",
       "| 879 | 0 | 3 | Markun, Mr. Johann                                  | male   | 33 | 0 | 0 | 349257           |  7.8958 | S |\n",
       "| 880 | 0 | 3 | Dahlberg, Miss. Gerda Ulrika                        | female | 22 | 0 | 0 | 7552             | 10.5167 | S |\n",
       "| 881 | 0 | 2 | Banfield, Mr. Frederick James                       | male   | 28 | 0 | 0 | C.A./SOTON 34068 | 10.5000 | S |\n",
       "| 882 | 0 | 3 | Sutehall, Mr. Henry Jr                              | male   | 25 | 0 | 0 | SOTON/OQ 392076  |  7.0500 | S |\n",
       "| 883 | 0 | 3 | Rice, Mrs. William (Margaret Norton)                | female | 39 | 0 | 5 | 382652           | 29.1250 | Q |\n",
       "| 884 | 0 | 2 | Montvila, Rev. Juozas                               | male   | 27 | 0 | 0 | 211536           | 13.0000 | S |\n",
       "| 885 | 1 | 1 | Graham, Miss. Margaret Edith                        | female | 19 | 0 | 0 | 112053           | 30.0000 | S |\n",
       "| 887 | 1 | 1 | Behr, Mr. Karl Howell                               | male   | 26 | 0 | 0 | 111369           | 30.0000 | C |\n",
       "| 888 | 0 | 3 | Dooley, Mr. Patrick                                 | male   | 32 | 0 | 0 | 370376           |  7.7500 | Q |\n",
       "| 889 | 1 | 1 | Mr. Frederick Maxfield Hoyt                         | male   | 38 | 1 | 0 | 19943            | 90.0000 | S |\n",
       "\n"
      ],
      "text/plain": [
       "    Survived Pclass Name                                                     \n",
       "1   0        3      Braund, Mr. Owen Harris                                  \n",
       "2   1        1      Cumings, Mrs. John Bradley (Florence Briggs Thayer)      \n",
       "3   1        3      Heikkinen, Miss. Laina                                   \n",
       "4   1        1      Futrelle, Mrs. Jacques Heath (Lily May Peel)             \n",
       "5   0        3      Allen, Mr. William Henry                                 \n",
       "7   0        1      McCarthy, Mr. Timothy J                                  \n",
       "8   0        3      Palsson, Master. Gosta Leonard                           \n",
       "9   1        3      Johnson, Mrs. Oscar W (Elisabeth Vilhelmina Berg)        \n",
       "10  1        2      Nasser, Mrs. Nicholas (Adele Achem)                      \n",
       "11  1        3      Sandstrom, Miss. Marguerite Ru&5$$                       \n",
       "12  1        1      Bonnell, Miss. Elizabeth                                 \n",
       "13  0        3      Saundercock, Mr. William Henry                           \n",
       "14  0        3      Vestrom, Miss. Hulda Amanda Adolfina                     \n",
       "15  1        2      Hewlett, Mrs. (Mary D Kingcome)                          \n",
       "16  0        3      Rice, Master. Eugene                                     \n",
       "18  0        3      Vander Planke, Mrs. Julius (Emelia Maria Vandemoortele)  \n",
       "20  0        2      Fynney, Mr. Joseph J                                     \n",
       "22  1        3      McGowan, Miss. Anna \"Annie\"                              \n",
       "23  0        3      Palsson, Miss. Torborg Danira                            \n",
       "24  1        3      Asplund, Mrs. Carl Oscar (Selma Augusta Emilia Johansson)\n",
       "26  0        1      Fortune, Mr. Charles Alexander                           \n",
       "29  0        1      Uruchurtu, Don. Manuel E                                 \n",
       "30  1        1      Spencer, Mrs. William Augustus (Marie Eugenie)           \n",
       "32  0        2      Wheadon, Mr. Edward H                                    \n",
       "33  0        1      Meyer, Mr. Edgar Joseph                                  \n",
       "34  0        1      Holverson, Mr. Alexander Oskar                           \n",
       "36  0        3      Cann, Mr. Ernest Charles                                 \n",
       "37  0        3      Vander Planke, Miss. Augusta Maria                       \n",
       "38  1        3      Nicola-Yarred, Miss. Jamila                              \n",
       "39  0        3      Ahlin, Mrs. Johan (Johanna Persdotter Larsson)           \n",
       "... ...      ...    ...                                                      \n",
       "855 1        1      Daly, Mr. Peter Denis                                    \n",
       "856 1        3      Baclini, Mrs. Solomon (Latifa Qurban)                    \n",
       "858 0        3      Hansen, Mr. Claus Peter                                  \n",
       "859 0        2      Giles, Mr. Frederick Edward                              \n",
       "860 1        1      Swift, Mrs. Frederick Joel (Margaret Welles Barron)      \n",
       "862 0        2      Gill, Mr. John William                                   \n",
       "863 1        2      Bystrom, Mrs. (Karolina)                                 \n",
       "864 1        2      Duran y More, Miss. Asuncion                             \n",
       "865 0        1      Roebling, Mr. Washington Augustus II                     \n",
       "867 1        3      Johnson, Master. Harold Theodor                          \n",
       "868 0        3      Balkic, Mr. Cerin                                        \n",
       "869 1        1      Beckwith, Mrs. Richard Leonard (Sallie Monypeny)         \n",
       "870 0        1      Carlsson, Mr. Frans Olof                                 \n",
       "871 0        3      Vander Cruyssen, Mr. Victor                              \n",
       "872 1        2      Abelson, Mrs. Samuel (Hannah Wizosky)                    \n",
       "873 1        3      Najib, Miss. Adele Kiamie \"Jane\"                         \n",
       "874 0        3      Gustafsson, Mr. Alfred Ossian                            \n",
       "875 0        3      Petroff, Mr. Nedelio                                     \n",
       "877 1        1      Potter, Mrs. Thomas Jr (Lily Alexenia Wilson)            \n",
       "878 1        2      Shelley, Mrs. William (Imanita Parrish Hall)             \n",
       "879 0        3      Markun, Mr. Johann                                       \n",
       "880 0        3      Dahlberg, Miss. Gerda Ulrika                             \n",
       "881 0        2      Banfield, Mr. Frederick James                            \n",
       "882 0        3      Sutehall, Mr. Henry Jr                                   \n",
       "883 0        3      Rice, Mrs. William (Margaret Norton)                     \n",
       "884 0        2      Montvila, Rev. Juozas                                    \n",
       "885 1        1      Graham, Miss. Margaret Edith                             \n",
       "887 1        1      Behr, Mr. Karl Howell                                    \n",
       "888 0        3      Dooley, Mr. Patrick                                      \n",
       "889 1        1      Mr. Frederick Maxfield Hoyt                              \n",
       "    Sex    Age SibSp Parch Ticket           Fare     Embarked\n",
       "1   male   22  1     0     A/5 21171          7.2500 S       \n",
       "2   female 38  1     0     PC 17599          71.2833 C       \n",
       "3   female 26  0     0     STON/O2. 3101282   7.9250 S       \n",
       "4   female 35  1     0     113803            53.1000 S       \n",
       "5   male   35  0     0     373450             8.0500 S       \n",
       "7   male   54  0     0     17463             51.8625 S       \n",
       "8   male    2  3     1     349909            21.0750 S       \n",
       "9   female 27  0     2     347742            11.1333 S       \n",
       "10  female 14  1     0     237736            30.0708 C       \n",
       "11  female  4  1     1     PP 9549           16.7000 S       \n",
       "12  female 58  0     0     113783            26.5500 S       \n",
       "13  male   20  0     0     A/5. 2151          8.0500 S       \n",
       "14  female 14  0     0     350406             7.8542 S       \n",
       "15  female 55  0     0     248706            16.0000 S       \n",
       "16  male    2  4     1     382652            29.1250 Q       \n",
       "18  female 31  1     0     345763            18.0000 S       \n",
       "20  male   35  0     0     239865            26.0000 S       \n",
       "22  female 15  0     0     330923             8.0292 Q       \n",
       "23  female  8  3     1     349909            21.0750 S       \n",
       "24  female 38  1     5     347077            31.3875 S       \n",
       "26  male   19  3     2     19950            263.0000 S       \n",
       "29  male   40  0     0     PC 17601          27.7208 C       \n",
       "30  female  9  1     0     PC 17569         146.5208 C       \n",
       "32  male   66  0     0     C.A. 24579        10.5000 S       \n",
       "33  male   28  1     0     PC 17604          82.1708 C       \n",
       "34  male   42  1     0     113789            52.0000 S       \n",
       "36  male   21  0     0     A./5. 2152         8.0500 S       \n",
       "37  female 18  2     0     345764            18.0000 S       \n",
       "38  female 14  1     0     2651              11.2417 C       \n",
       "39  female 40  1     0     7546               9.4750 S       \n",
       "... ...    ... ...   ...   ...              ...      ...     \n",
       "855 male   51  0     0     113055           26.5500  S       \n",
       "856 female 24  0     3     2666             19.2583  C       \n",
       "858 male   41  2     0     350026           14.1083  S       \n",
       "859 male   21  1     0     28134            11.5000  S       \n",
       "860 female 48  0     0     17466            25.9292  S       \n",
       "862 male   24  0     0     233866           13.0000  S       \n",
       "863 female 42  0     0     236852           13.0000  S       \n",
       "864 female 27  1     0     SC/PARIS 2149    13.8583  C       \n",
       "865 male   31  0     0     PC 17590         50.4958  S       \n",
       "867 male    4  1     1     347742           11.1333  S       \n",
       "868 male   26  0     0     349248            7.8958  S       \n",
       "869 female 47  1     1     11751            52.5542  S       \n",
       "870 male   33  0     0     695               5.0000  S       \n",
       "871 male   47  0     0     345765            9.0000  S       \n",
       "872 female 28  1     0     P/PP 3381        24.0000  C       \n",
       "873 female 15  0     0     2667              7.2250  C       \n",
       "874 male   20  0     0     7534              9.8458  S       \n",
       "875 male   19  0     0     349212            7.8958  S       \n",
       "877 female 56  0     1     11767            83.1583  C       \n",
       "878 female 25  0     1     230433           26.0000  S       \n",
       "879 male   33  0     0     349257            7.8958  S       \n",
       "880 female 22  0     0     7552             10.5167  S       \n",
       "881 male   28  0     0     C.A./SOTON 34068 10.5000  S       \n",
       "882 male   25  0     0     SOTON/OQ 392076   7.0500  S       \n",
       "883 female 39  0     5     382652           29.1250  Q       \n",
       "884 male   27  0     0     211536           13.0000  S       \n",
       "885 female 19  0     0     112053           30.0000  S       \n",
       "887 male   26  0     0     111369           30.0000  C       \n",
       "888 male   32  0     0     370376            7.7500  Q       \n",
       "889 male   38  1     0     19943            90.0000  S       "
      ]
     },
     "metadata": {},
     "output_type": "display_data"
    }
   ],
   "source": [
    "inputFile"
   ]
  },
  {
   "cell_type": "code",
   "execution_count": 87,
   "id": "electoral-westminster",
   "metadata": {},
   "outputs": [],
   "source": [
    "write.table(inputFile, file='TitanicCleaned.tsv', quote=FALSE, sep='\\t')"
   ]
  }
 ],
 "metadata": {
  "kernelspec": {
   "display_name": "R",
   "language": "R",
   "name": "ir"
  },
  "language_info": {
   "codemirror_mode": "r",
   "file_extension": ".r",
   "mimetype": "text/x-r-source",
   "name": "R",
   "pygments_lexer": "r",
   "version": "4.1.1"
  }
 },
 "nbformat": 4,
 "nbformat_minor": 5
}
